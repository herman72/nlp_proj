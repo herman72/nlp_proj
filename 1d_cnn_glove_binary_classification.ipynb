{
  "cells": [
    {
      "cell_type": "markdown",
      "metadata": {
        "id": "iG98sG-qzQ6E"
      },
      "source": [
        "## 1D Convolutional Neural Network (CNN) with GloVe embeddings for hate speech detection ##"
      ]
    },
    {
      "cell_type": "markdown",
      "metadata": {
        "id": "w09aWFXnzQ6F"
      },
      "source": [
        "### Instructions\n",
        "\n",
        "The data for the competition has been pre-partitioned into 3 sets: train,dev,test\n",
        "\n",
        "The test data consists of two parts: public and private, the leaderboard will display the performance<br>\n",
        "on the public part, and we will announce the final results on the private test set after 04/12/2024.<br>"
      ]
    },
    {
      "cell_type": "markdown",
      "metadata": {
        "id": "Ug6ypIcmzQ6G"
      },
      "source": [
        "*Files*\n",
        "\n",
        "    train_2024.csv - the training set, 99000 rows\n",
        "    dev_2024.csv - the development set, 11000 rows\n",
        "    test_2024.csv - the test set, 12001 rows\n",
        "    sample_submission_2024.csv - a sample submission file in the correct format\n",
        "\n",
        "*Columns*\n",
        "\n",
        "    id - column for the example_id within the set\n",
        "    text - the text of the comment\n",
        "    label - binary label (1=Toxic/0=NonToxic)\n"
      ]
    },
    {
      "cell_type": "code",
      "execution_count": 2,
      "metadata": {
        "id": "I6Rf3q7FzQ6H"
      },
      "outputs": [],
      "source": [
        "import pandas as pd\n",
        "import numpy as np\n",
        "import torch\n",
        "import torch.nn as nn\n",
        "import time\n",
        "import datetime\n",
        "import random\n",
        "import os\n"
      ]
    },
    {
      "cell_type": "code",
      "execution_count": 4,
      "metadata": {
        "id": "7Dhz5vBLzQ6H"
      },
      "outputs": [],
      "source": [
        "\n",
        "import matplotlib.pyplot as plt\n",
        "from transformers import BertTokenizer\n",
        "from sklearn.model_selection import train_test_split\n",
        "from torch.utils.data import TensorDataset, DataLoader, RandomSampler, SequentialSampler\n",
        "from transformers import BertForSequenceClassification, AdamW, BertConfig\n",
        "from transformers import get_linear_schedule_with_warmup\n",
        "from sklearn.utils.class_weight import compute_class_weight"
      ]
    },
    {
      "cell_type": "markdown",
      "metadata": {
        "id": "EmFeaiS6zQ6I"
      },
      "source": [
        "### Check is GPU available"
      ]
    },
    {
      "cell_type": "code",
      "execution_count": 6,
      "metadata": {
        "id": "wrpJYPhUzQ6I",
        "outputId": "913db5c7-0ab1-4007-a34d-481130dbb4a6",
        "colab": {
          "base_uri": "https://localhost:8080/"
        }
      },
      "outputs": [
        {
          "output_type": "stream",
          "name": "stdout",
          "text": [
            "Running with cuda, 1 GPU available.\n",
            "GPU: Tesla T4\n"
          ]
        }
      ],
      "source": [
        "if torch.cuda.is_available():\n",
        "    device = torch.device(\"cuda\")\n",
        "    print('Running with %s, %d GPU available.' % (device, torch.cuda.device_count()))\n",
        "    print('GPU:', torch.cuda.get_device_name(0))\n",
        "else:\n",
        "    print('No GPU detected! use colab or some other env')"
      ]
    },
    {
      "cell_type": "code",
      "execution_count": 10,
      "metadata": {
        "id": "abpYXWqOzQ6I",
        "outputId": "d5d42fc6-4032-43f6-cc4e-539b9631c784",
        "colab": {
          "base_uri": "https://localhost:8080/",
          "height": 143
        }
      },
      "outputs": [
        {
          "output_type": "execute_result",
          "data": {
            "text/plain": [
              "                                                text  label\n",
              "0  Except that Desmond played first base last nig...      0\n",
              "1  What i find funny is the loyalty and blindness...      0\n",
              "2  Read the article  not just the headline & you ...      0"
            ],
            "text/html": [
              "\n",
              "  <div id=\"df-baeb6a1a-4222-46e8-8f0d-de099e228130\" class=\"colab-df-container\">\n",
              "    <div>\n",
              "<style scoped>\n",
              "    .dataframe tbody tr th:only-of-type {\n",
              "        vertical-align: middle;\n",
              "    }\n",
              "\n",
              "    .dataframe tbody tr th {\n",
              "        vertical-align: top;\n",
              "    }\n",
              "\n",
              "    .dataframe thead th {\n",
              "        text-align: right;\n",
              "    }\n",
              "</style>\n",
              "<table border=\"1\" class=\"dataframe\">\n",
              "  <thead>\n",
              "    <tr style=\"text-align: right;\">\n",
              "      <th></th>\n",
              "      <th>text</th>\n",
              "      <th>label</th>\n",
              "    </tr>\n",
              "  </thead>\n",
              "  <tbody>\n",
              "    <tr>\n",
              "      <th>0</th>\n",
              "      <td>Except that Desmond played first base last nig...</td>\n",
              "      <td>0</td>\n",
              "    </tr>\n",
              "    <tr>\n",
              "      <th>1</th>\n",
              "      <td>What i find funny is the loyalty and blindness...</td>\n",
              "      <td>0</td>\n",
              "    </tr>\n",
              "    <tr>\n",
              "      <th>2</th>\n",
              "      <td>Read the article  not just the headline &amp; you ...</td>\n",
              "      <td>0</td>\n",
              "    </tr>\n",
              "  </tbody>\n",
              "</table>\n",
              "</div>\n",
              "    <div class=\"colab-df-buttons\">\n",
              "\n",
              "  <div class=\"colab-df-container\">\n",
              "    <button class=\"colab-df-convert\" onclick=\"convertToInteractive('df-baeb6a1a-4222-46e8-8f0d-de099e228130')\"\n",
              "            title=\"Convert this dataframe to an interactive table.\"\n",
              "            style=\"display:none;\">\n",
              "\n",
              "  <svg xmlns=\"http://www.w3.org/2000/svg\" height=\"24px\" viewBox=\"0 -960 960 960\">\n",
              "    <path d=\"M120-120v-720h720v720H120Zm60-500h600v-160H180v160Zm220 220h160v-160H400v160Zm0 220h160v-160H400v160ZM180-400h160v-160H180v160Zm440 0h160v-160H620v160ZM180-180h160v-160H180v160Zm440 0h160v-160H620v160Z\"/>\n",
              "  </svg>\n",
              "    </button>\n",
              "\n",
              "  <style>\n",
              "    .colab-df-container {\n",
              "      display:flex;\n",
              "      gap: 12px;\n",
              "    }\n",
              "\n",
              "    .colab-df-convert {\n",
              "      background-color: #E8F0FE;\n",
              "      border: none;\n",
              "      border-radius: 50%;\n",
              "      cursor: pointer;\n",
              "      display: none;\n",
              "      fill: #1967D2;\n",
              "      height: 32px;\n",
              "      padding: 0 0 0 0;\n",
              "      width: 32px;\n",
              "    }\n",
              "\n",
              "    .colab-df-convert:hover {\n",
              "      background-color: #E2EBFA;\n",
              "      box-shadow: 0px 1px 2px rgba(60, 64, 67, 0.3), 0px 1px 3px 1px rgba(60, 64, 67, 0.15);\n",
              "      fill: #174EA6;\n",
              "    }\n",
              "\n",
              "    .colab-df-buttons div {\n",
              "      margin-bottom: 4px;\n",
              "    }\n",
              "\n",
              "    [theme=dark] .colab-df-convert {\n",
              "      background-color: #3B4455;\n",
              "      fill: #D2E3FC;\n",
              "    }\n",
              "\n",
              "    [theme=dark] .colab-df-convert:hover {\n",
              "      background-color: #434B5C;\n",
              "      box-shadow: 0px 1px 3px 1px rgba(0, 0, 0, 0.15);\n",
              "      filter: drop-shadow(0px 1px 2px rgba(0, 0, 0, 0.3));\n",
              "      fill: #FFFFFF;\n",
              "    }\n",
              "  </style>\n",
              "\n",
              "    <script>\n",
              "      const buttonEl =\n",
              "        document.querySelector('#df-baeb6a1a-4222-46e8-8f0d-de099e228130 button.colab-df-convert');\n",
              "      buttonEl.style.display =\n",
              "        google.colab.kernel.accessAllowed ? 'block' : 'none';\n",
              "\n",
              "      async function convertToInteractive(key) {\n",
              "        const element = document.querySelector('#df-baeb6a1a-4222-46e8-8f0d-de099e228130');\n",
              "        const dataTable =\n",
              "          await google.colab.kernel.invokeFunction('convertToInteractive',\n",
              "                                                    [key], {});\n",
              "        if (!dataTable) return;\n",
              "\n",
              "        const docLinkHtml = 'Like what you see? Visit the ' +\n",
              "          '<a target=\"_blank\" href=https://colab.research.google.com/notebooks/data_table.ipynb>data table notebook</a>'\n",
              "          + ' to learn more about interactive tables.';\n",
              "        element.innerHTML = '';\n",
              "        dataTable['output_type'] = 'display_data';\n",
              "        await google.colab.output.renderOutput(dataTable, element);\n",
              "        const docLink = document.createElement('div');\n",
              "        docLink.innerHTML = docLinkHtml;\n",
              "        element.appendChild(docLink);\n",
              "      }\n",
              "    </script>\n",
              "  </div>\n",
              "\n",
              "\n",
              "<div id=\"df-dc151bc9-4cf1-439d-bbfe-478de44dc64c\">\n",
              "  <button class=\"colab-df-quickchart\" onclick=\"quickchart('df-dc151bc9-4cf1-439d-bbfe-478de44dc64c')\"\n",
              "            title=\"Suggest charts\"\n",
              "            style=\"display:none;\">\n",
              "\n",
              "<svg xmlns=\"http://www.w3.org/2000/svg\" height=\"24px\"viewBox=\"0 0 24 24\"\n",
              "     width=\"24px\">\n",
              "    <g>\n",
              "        <path d=\"M19 3H5c-1.1 0-2 .9-2 2v14c0 1.1.9 2 2 2h14c1.1 0 2-.9 2-2V5c0-1.1-.9-2-2-2zM9 17H7v-7h2v7zm4 0h-2V7h2v10zm4 0h-2v-4h2v4z\"/>\n",
              "    </g>\n",
              "</svg>\n",
              "  </button>\n",
              "\n",
              "<style>\n",
              "  .colab-df-quickchart {\n",
              "      --bg-color: #E8F0FE;\n",
              "      --fill-color: #1967D2;\n",
              "      --hover-bg-color: #E2EBFA;\n",
              "      --hover-fill-color: #174EA6;\n",
              "      --disabled-fill-color: #AAA;\n",
              "      --disabled-bg-color: #DDD;\n",
              "  }\n",
              "\n",
              "  [theme=dark] .colab-df-quickchart {\n",
              "      --bg-color: #3B4455;\n",
              "      --fill-color: #D2E3FC;\n",
              "      --hover-bg-color: #434B5C;\n",
              "      --hover-fill-color: #FFFFFF;\n",
              "      --disabled-bg-color: #3B4455;\n",
              "      --disabled-fill-color: #666;\n",
              "  }\n",
              "\n",
              "  .colab-df-quickchart {\n",
              "    background-color: var(--bg-color);\n",
              "    border: none;\n",
              "    border-radius: 50%;\n",
              "    cursor: pointer;\n",
              "    display: none;\n",
              "    fill: var(--fill-color);\n",
              "    height: 32px;\n",
              "    padding: 0;\n",
              "    width: 32px;\n",
              "  }\n",
              "\n",
              "  .colab-df-quickchart:hover {\n",
              "    background-color: var(--hover-bg-color);\n",
              "    box-shadow: 0 1px 2px rgba(60, 64, 67, 0.3), 0 1px 3px 1px rgba(60, 64, 67, 0.15);\n",
              "    fill: var(--button-hover-fill-color);\n",
              "  }\n",
              "\n",
              "  .colab-df-quickchart-complete:disabled,\n",
              "  .colab-df-quickchart-complete:disabled:hover {\n",
              "    background-color: var(--disabled-bg-color);\n",
              "    fill: var(--disabled-fill-color);\n",
              "    box-shadow: none;\n",
              "  }\n",
              "\n",
              "  .colab-df-spinner {\n",
              "    border: 2px solid var(--fill-color);\n",
              "    border-color: transparent;\n",
              "    border-bottom-color: var(--fill-color);\n",
              "    animation:\n",
              "      spin 1s steps(1) infinite;\n",
              "  }\n",
              "\n",
              "  @keyframes spin {\n",
              "    0% {\n",
              "      border-color: transparent;\n",
              "      border-bottom-color: var(--fill-color);\n",
              "      border-left-color: var(--fill-color);\n",
              "    }\n",
              "    20% {\n",
              "      border-color: transparent;\n",
              "      border-left-color: var(--fill-color);\n",
              "      border-top-color: var(--fill-color);\n",
              "    }\n",
              "    30% {\n",
              "      border-color: transparent;\n",
              "      border-left-color: var(--fill-color);\n",
              "      border-top-color: var(--fill-color);\n",
              "      border-right-color: var(--fill-color);\n",
              "    }\n",
              "    40% {\n",
              "      border-color: transparent;\n",
              "      border-right-color: var(--fill-color);\n",
              "      border-top-color: var(--fill-color);\n",
              "    }\n",
              "    60% {\n",
              "      border-color: transparent;\n",
              "      border-right-color: var(--fill-color);\n",
              "    }\n",
              "    80% {\n",
              "      border-color: transparent;\n",
              "      border-right-color: var(--fill-color);\n",
              "      border-bottom-color: var(--fill-color);\n",
              "    }\n",
              "    90% {\n",
              "      border-color: transparent;\n",
              "      border-bottom-color: var(--fill-color);\n",
              "    }\n",
              "  }\n",
              "</style>\n",
              "\n",
              "  <script>\n",
              "    async function quickchart(key) {\n",
              "      const quickchartButtonEl =\n",
              "        document.querySelector('#' + key + ' button');\n",
              "      quickchartButtonEl.disabled = true;  // To prevent multiple clicks.\n",
              "      quickchartButtonEl.classList.add('colab-df-spinner');\n",
              "      try {\n",
              "        const charts = await google.colab.kernel.invokeFunction(\n",
              "            'suggestCharts', [key], {});\n",
              "      } catch (error) {\n",
              "        console.error('Error during call to suggestCharts:', error);\n",
              "      }\n",
              "      quickchartButtonEl.classList.remove('colab-df-spinner');\n",
              "      quickchartButtonEl.classList.add('colab-df-quickchart-complete');\n",
              "    }\n",
              "    (() => {\n",
              "      let quickchartButtonEl =\n",
              "        document.querySelector('#df-dc151bc9-4cf1-439d-bbfe-478de44dc64c button');\n",
              "      quickchartButtonEl.style.display =\n",
              "        google.colab.kernel.accessAllowed ? 'block' : 'none';\n",
              "    })();\n",
              "  </script>\n",
              "</div>\n",
              "    </div>\n",
              "  </div>\n"
            ],
            "application/vnd.google.colaboratory.intrinsic+json": {
              "type": "dataframe",
              "variable_name": "df",
              "summary": "{\n  \"name\": \"df\",\n  \"rows\": 99000,\n  \"fields\": [\n    {\n      \"column\": \"text\",\n      \"properties\": {\n        \"dtype\": \"string\",\n        \"num_unique_values\": 98998,\n        \"samples\": [\n          \"I really  really want to believe that we will actually follow up and vote these people out of office this year. I don't have much hope  but I want to believe it's true...\",\n          \"Sorry ! They're Illegal ! Do you think Illegal Canadians would be welcome in Somalia ? Large Somali population in Minnesota assisted by Somalians to come to Canada = Ahmed Hussen Canadian Immigration Minister who happens to be from Somalia ! No wonder the RCMP are carrying their luggage ! Canada is Screwed and we know it !\",\n          \"please grow up  no one needs dumb ideas  see lunatic its not the government doing any of this\"\n        ],\n        \"semantic_type\": \"\",\n        \"description\": \"\"\n      }\n    },\n    {\n      \"column\": \"label\",\n      \"properties\": {\n        \"dtype\": \"number\",\n        \"std\": 0,\n        \"min\": 0,\n        \"max\": 1,\n        \"num_unique_values\": 2,\n        \"samples\": [\n          1,\n          0\n        ],\n        \"semantic_type\": \"\",\n        \"description\": \"\"\n      }\n    }\n  ]\n}"
            }
          },
          "metadata": {},
          "execution_count": 10
        }
      ],
      "source": [
        "df = pd.read_csv(\"nlp_proj/train/train_2024.csv\", quoting=3, index_col=0)\n",
        "\n",
        "# uncomm below if you want to combine train and dev sets (train test split do the split)\n",
        "#df_dev = pd.read_csv(\"./dev/dev_2024.csv\", quoting=3, index_col=0)   #dev set\n",
        "#df = pd.concat([df, df_dev])\n",
        "\n",
        "df.reset_index(drop=True, inplace=True)\n",
        "df.head(3)"
      ]
    },
    {
      "cell_type": "code",
      "execution_count": 12,
      "metadata": {
        "id": "zkVLjwZFzQ6J",
        "outputId": "9a06c91f-d2f6-42d4-aeea-32008127ea81",
        "colab": {
          "base_uri": "https://localhost:8080/"
        }
      },
      "outputs": [
        {
          "output_type": "stream",
          "name": "stdout",
          "text": [
            "<class 'pandas.core.frame.DataFrame'>\n",
            "RangeIndex: 99000 entries, 0 to 98999\n",
            "Data columns (total 2 columns):\n",
            " #   Column  Non-Null Count  Dtype \n",
            "---  ------  --------------  ----- \n",
            " 0   text    99000 non-null  object\n",
            " 1   label   99000 non-null  int64 \n",
            "dtypes: int64(1), object(1)\n",
            "memory usage: 1.5+ MB\n"
          ]
        }
      ],
      "source": [
        "pd.set_option('display.max_colwidth', 100)\n",
        "df.info()"
      ]
    },
    {
      "cell_type": "code",
      "execution_count": 13,
      "metadata": {
        "id": "rBKQpEvezQ6J",
        "outputId": "b18bbc27-318b-47f2-cdcd-ce0384835001",
        "colab": {
          "base_uri": "https://localhost:8080/",
          "height": 521
        }
      },
      "outputs": [
        {
          "output_type": "display_data",
          "data": {
            "text/plain": [
              "<Figure size 800x600 with 1 Axes>"
            ],
            "image/png": "[encoded data removed]"
          },
          "metadata": {}
        }
      ],
      "source": [
        "\n",
        "# let's visualize the class distribution\n",
        "class_counts = df['label'].value_counts()\n",
        "labels = df['label'].values\n",
        "text = df['text'].values\n",
        "\n",
        "# pie chart\n",
        "plt.figure(figsize=(8, 6))\n",
        "plt.pie(class_counts, labels=['hate-speech = Class 1', 'non-hate-speech = Class 0'], autopct='%1.1f%%', startangle=30)\n",
        "plt.title('Class Distribution Before Balancing')\n",
        "plt.show()\n"
      ]
    },
    {
      "cell_type": "markdown",
      "metadata": {
        "id": "Pi9ESzDCzQ6J"
      },
      "source": [
        "### balance classes with weights"
      ]
    },
    {
      "cell_type": "markdown",
      "metadata": {
        "id": "VKXd9H_0zQ6K"
      },
      "source": [
        "## Pre-processing"
      ]
    },
    {
      "cell_type": "markdown",
      "metadata": {
        "id": "LtRZc1VizQ6K"
      },
      "source": [
        "### Clean the data"
      ]
    },
    {
      "cell_type": "code",
      "source": [
        "import nltk\n",
        "nltk.download('stopwords')\n",
        "nltk.download('punkt')\n",
        "nltk.download('wordnet')"
      ],
      "metadata": {
        "id": "6ZiTwqDw0NPI",
        "outputId": "a012b950-9897-4823-de43-1ae81b8fabee",
        "colab": {
          "base_uri": "https://localhost:8080/"
        }
      },
      "execution_count": 16,
      "outputs": [
        {
          "output_type": "stream",
          "name": "stderr",
          "text": [
            "[nltk_data] Downloading package stopwords to /root/nltk_data...\n",
            "[nltk_data]   Unzipping corpora/stopwords.zip.\n",
            "[nltk_data] Downloading package punkt to /root/nltk_data...\n",
            "[nltk_data]   Unzipping tokenizers/punkt.zip.\n",
            "[nltk_data] Downloading package wordnet to /root/nltk_data...\n"
          ]
        },
        {
          "output_type": "execute_result",
          "data": {
            "text/plain": [
              "True"
            ]
          },
          "metadata": {},
          "execution_count": 16
        }
      ]
    },
    {
      "cell_type": "code",
      "execution_count": 17,
      "metadata": {
        "id": "Zc-h5IZUzQ6K",
        "outputId": "a921683a-92a0-41e8-ec4a-38a829fe28a0",
        "colab": {
          "base_uri": "https://localhost:8080/"
        }
      },
      "outputs": [
        {
          "output_type": "stream",
          "name": "stdout",
          "text": [
            "cleaned len: 99000\n",
            "org len: 99000\n"
          ]
        }
      ],
      "source": [
        "import numpy as np\n",
        "from nltk.tokenize import word_tokenize\n",
        "from nltk.corpus import stopwords\n",
        "from nltk.stem import WordNetLemmatizer\n",
        "import re\n",
        "\n",
        "# lemmatizer\n",
        "lemmatizer = WordNetLemmatizer()\n",
        "\n",
        "# stopwords (this, that, at..)\n",
        "stop_words = set(stopwords.words('english'))\n",
        "\n",
        "# maintain some stopwords that might be useful for hatespeech detection\n",
        "words_to_retain = {\"not\", \"no\", \"never\", \"none\", \"he\", \"she\", \"they\", \"them\", \"but\", \"against\", \"without\", \"is\", \"are\", \"was\", \"were\"}\n",
        "\n",
        "# remove above important words from the stop words set\n",
        "stop_words = {word for word in stop_words if word not in words_to_retain}\n",
        "\n",
        "def clean_text_special(text):\n",
        "    # Lowercase the text\n",
        "    text = text.lower()\n",
        "\n",
        "    # remove URLs\n",
        "    text = re.sub(r'http\\S+|www\\S+|https\\S+', '', text)  # Remove URLs\n",
        "\n",
        "    # remove numbers (but leave special characters that could refer to curse words)\n",
        "    text = re.sub(r'\\d+', '', text)  # Remove digits\n",
        "\n",
        "    # tokenize the text\n",
        "    tokens = word_tokenize(text)\n",
        "\n",
        "    # remove stopwords and lemmatize, keeping special characters\n",
        "    cleaned_tokens = [lemmatizer.lemmatize(token) for token in tokens if token not in stop_words and (token.isalnum() or re.match(r'[@#$%^&*]', token))]\n",
        "\n",
        "    # join tokens back into a single string, keeping special characters\n",
        "    cleaned_text = ' '.join(cleaned_tokens)\n",
        "\n",
        "    return cleaned_text\n",
        "\n",
        "def clean_numpy_texts(texts_array):\n",
        "    vectorized_clean = np.vectorize(clean_text_special)  # vectorize the cleaning function for efficiency\n",
        "    return vectorized_clean(texts_array)\n",
        "\n",
        "text_clean = clean_numpy_texts(text)\n",
        "print(\"cleaned len:\", len(text_clean))\n",
        "print(\"org len:\", len(text))\n"
      ]
    },
    {
      "cell_type": "code",
      "execution_count": 18,
      "metadata": {
        "id": "114oHSX6zQ6K"
      },
      "outputs": [],
      "source": [
        "# save cleaned numpy array to file\n",
        "np.save('text_clean.npy', text_clean)"
      ]
    },
    {
      "cell_type": "code",
      "execution_count": 19,
      "metadata": {
        "id": "x2N3WKlozQ6K",
        "outputId": "41c8c2d0-d8fa-48cb-ec84-743837c066fc",
        "colab": {
          "base_uri": "https://localhost:8080/"
        }
      },
      "outputs": [
        {
          "output_type": "stream",
          "name": "stdout",
          "text": [
            "except desmond played first base last night tapia wa lf reynolds night\n",
            "num of sentences: 99000\n"
          ]
        }
      ],
      "source": [
        "# load numpy array from the file\n",
        "text_clean = np.load('text_clean.npy')\n",
        "\n",
        "print(text_clean[0])\n",
        "print(\"num of sentences:\", len(text_clean))"
      ]
    },
    {
      "cell_type": "markdown",
      "source": [
        "### Load GloVe Embeddings into a Dictionary"
      ],
      "metadata": {
        "collapsed": false,
        "id": "vBjVNyUUzQ6L"
      }
    },
    {
      "cell_type": "code",
      "execution_count": 23,
      "outputs": [],
      "source": [
        "def load_glove_embeddings(path):\n",
        "    embeddings_dict = {}\n",
        "    with open(path, 'r', encoding='utf-8') as f:\n",
        "        for line in f:\n",
        "            values = line.split()\n",
        "            word = values[0]\n",
        "            vector = np.asarray(values[1:], \"float32\")\n",
        "            embeddings_dict[word] = vector\n",
        "    return embeddings_dict\n",
        "\n",
        "glove_path = 'glove.6B.300d.txt'\n",
        "embeddings_dict = load_glove_embeddings(glove_path)"
      ],
      "metadata": {
        "id": "3m-nbWCMzQ6L"
      }
    },
    {
      "cell_type": "markdown",
      "metadata": {
        "id": "WgyTKonSzQ6M"
      },
      "source": [
        "### tokenization example"
      ]
    },
    {
      "cell_type": "code",
      "execution_count": 31,
      "metadata": {
        "id": "OghPW69wzQ6M"
      },
      "outputs": [],
      "source": [
        "from keras.preprocessing.text import Tokenizer\n",
        "from keras.preprocessing.sequence import pad_sequences\n",
        "\n",
        "# Initialize and fit the tokenizer\n",
        "tokenizer = Tokenizer(num_words=10000) # This limits to the top 10,000 vocab\n",
        "tokenizer.fit_on_texts(text_clean)\n",
        "sequences = tokenizer.texts_to_sequences(text_clean)\n",
        "\n",
        "# Pad sequences\n",
        "max_sequence_length = 300  # This should be chosen based on your data\n",
        "data = pad_sequences(sequences, maxlen=max_sequence_length)\n",
        "\n",
        "# Create an embedding matrix\n",
        "embedding_dim = 300  # Or the dimension of your GloVe vectors\n",
        "vocab_size = len(tokenizer.word_index) + 1  # Adding 1 to account for padding token\n",
        "embedding_matrix = np.zeros((vocab_size, embedding_dim))\n",
        "for word, i in tokenizer.word_index.items():\n",
        "    embedding_vector = embeddings_dict.get(word)\n",
        "    if embedding_vector is not None:\n",
        "        embedding_matrix[i] = embedding_vector"
      ]
    },
    {
      "cell_type": "code",
      "execution_count": 43,
      "metadata": {
        "id": "Jni8lS57zQ6M",
        "outputId": "d828e3e0-4f87-46a3-cdac-127bf3072530",
        "colab": {
          "base_uri": "https://localhost:8080/"
        }
      },
      "outputs": [
        {
          "output_type": "stream",
          "name": "stdout",
          "text": [
            "texts:\n",
            " find funny is loyalty blindness english community worst possible choice them is liberal yet they keep voting them every time they keep renewing hope every election year prior ignore them winning speach already honestly pq respect english community liberal least they dont lie get vote said dont vote pq either tired old man but is another story mostly vote local candidate regardless party even voted liberal outch wa hard admit but seriously guy drop act anti pq anti q dont vote caq cause they dont win etc least respect they say no time they say yes act not saying like liberal\n",
            "Tokenized Texts:\n",
            " [   0    0    0    0    0    0    0    0    0    0    0    0    0    0\n",
            "    0    0    0    0    0    0    0    0    0    0    0    0    0    0\n",
            "    0    0    0    0    0    0    0    0    0    0    0    0    0    0\n",
            "    0    0    0    0    0    0    0    0    0    0    0    0    0    0\n",
            "    0    0    0    0    0    0    0    0    0    0    0    0    0    0\n",
            "    0    0    0    0    0    0    0    0    0    0    0    0    0    0\n",
            "    0    0    0    0    0    0    0    0    0    0    0    0    0    0\n",
            "    0    0    0    0    0    0    0    0    0    0    0    0    0    0\n",
            "    0    0    0    0    0    0    0    0    0    0    0    0    0    0\n",
            "    0    0    0    0    0    0    0    0    0    0    0    0    0    0\n",
            "    0    0    0    0    0    0    0    0    0    0    0    0    0    0\n",
            "    0    0    0    0    0    0    0    0    0    0    0    0    0    0\n",
            "    0    0    0    0    0    0    0    0    0    0    0    0    0    0\n",
            "    0    0    0    0    0    0    0    0    0    0    0    0    0    0\n",
            "    0    0    0    0    0    0    0    0    0    0    0  142  556    1\n",
            " 3537 1267  337  674  524  354   15    1   61  161    4   79  515   15\n",
            "   70   17    4   79  174   70  151   16 1471  917   15 1380  165 2029\n",
            "  516 1267  337   61  182    4  933  204   14   80   53  933   80  219\n",
            " 1106  150  116    7    1   60  187 1024   80  366  408  934   85   31\n",
            "  305   61    6  236 1128    7  598   91  928  278 1725 1725 5696  933\n",
            "   80  371    4  933  368  214  182  516    4   32    8   17    4   32\n",
            "  115  278    3  233   11   61]\n"
          ]
        }
      ],
      "source": [
        "print(\"texts:\\n\", text_clean[:][1])\n",
        "print(\"Tokenized Texts:\\n\", data[:][1])"
      ]
    },
    {
      "cell_type": "markdown",
      "metadata": {
        "id": "99GeEpHZzQ6M"
      },
      "source": [
        "### Check the length distribution of token_vectors"
      ]
    },
    {
      "cell_type": "markdown",
      "metadata": {
        "id": "Wh3b6NRwzQ6M"
      },
      "source": [
        "**truncate token vectors longer than given max length (140 tokens)**<br>\n",
        "**pad token vectors shorter than max lenght with zeros to max lenght (140)**"
      ]
    },
    {
      "cell_type": "code",
      "execution_count": 48,
      "metadata": {
        "id": "zbfUqdb1zQ6M"
      },
      "outputs": [],
      "source": [
        "from keras.models import Sequential\n",
        "from keras.layers import Embedding, Conv1D, GlobalMaxPooling1D, Dense\n",
        "\n",
        "model = Sequential()\n",
        "model.add(Embedding(vocab_size, embedding_dim, input_length=max_sequence_length,\n",
        "                    weights=[embedding_matrix], trainable=False))\n",
        "model.add(Conv1D(128, 5, activation='relu'))\n",
        "model.add(GlobalMaxPooling1D())\n",
        "model.add(Dense(10, activation='relu'))\n",
        "model.add(Dense(1, activation='sigmoid'))  # Assuming binary classification\n",
        "\n",
        "model.compile(loss='binary_crossentropy', optimizer='adam', metrics=['accuracy'])\n"
      ]
    },
    {
      "cell_type": "markdown",
      "metadata": {
        "id": "2_RsJ8mCzQ6O"
      },
      "source": [
        "### Training loop"
      ]
    },
    {
      "cell_type": "code",
      "execution_count": 52,
      "metadata": {
        "id": "TcDFDC8bzQ6O",
        "outputId": "9be81e9e-8ac9-4387-a44f-ed87d662abf0",
        "colab": {
          "base_uri": "https://localhost:8080/"
        }
      },
      "outputs": [
        {
          "output_type": "stream",
          "name": "stdout",
          "text": [
            "Epoch 1/10\n",
            "2785/2785 [==============================] - 23s 7ms/step - loss: 0.2493 - accuracy: 0.9010 - val_loss: 0.2302 - val_accuracy: 0.9101\n",
            "Epoch 2/10\n",
            "2785/2785 [==============================] - 19s 7ms/step - loss: 0.1825 - accuracy: 0.9303 - val_loss: 0.2215 - val_accuracy: 0.9167\n",
            "Epoch 3/10\n",
            "2785/2785 [==============================] - 20s 7ms/step - loss: 0.1341 - accuracy: 0.9497 - val_loss: 0.2520 - val_accuracy: 0.9177\n",
            "Epoch 4/10\n",
            "2785/2785 [==============================] - 18s 7ms/step - loss: 0.0976 - accuracy: 0.9630 - val_loss: 0.2864 - val_accuracy: 0.9152\n",
            "Epoch 5/10\n",
            "2785/2785 [==============================] - 20s 7ms/step - loss: 0.0754 - accuracy: 0.9712 - val_loss: 0.3127 - val_accuracy: 0.9105\n",
            "Epoch 6/10\n",
            "2785/2785 [==============================] - 16s 6ms/step - loss: 0.0627 - accuracy: 0.9762 - val_loss: 0.3805 - val_accuracy: 0.9080\n",
            "Epoch 7/10\n",
            "2785/2785 [==============================] - 17s 6ms/step - loss: 0.0540 - accuracy: 0.9794 - val_loss: 0.5552 - val_accuracy: 0.8975\n",
            "Epoch 8/10\n",
            "2785/2785 [==============================] - 20s 7ms/step - loss: 0.0482 - accuracy: 0.9817 - val_loss: 0.4168 - val_accuracy: 0.9090\n",
            "Epoch 9/10\n",
            "2785/2785 [==============================] - 19s 7ms/step - loss: 0.0433 - accuracy: 0.9835 - val_loss: 0.4871 - val_accuracy: 0.9056\n",
            "Epoch 10/10\n",
            "2785/2785 [==============================] - 17s 6ms/step - loss: 0.0399 - accuracy: 0.9849 - val_loss: 0.4676 - val_accuracy: 0.9096\n"
          ]
        },
        {
          "output_type": "execute_result",
          "data": {
            "text/plain": [
              "<keras.src.callbacks.History at 0x7bcf610a5750>"
            ]
          },
          "metadata": {},
          "execution_count": 52
        }
      ],
      "source": [
        "model.fit(data, labels, batch_size=32, epochs=10, validation_split=0.1)"
      ]
    },
    {
      "cell_type": "code",
      "source": [
        "model.save('glove_train')"
      ],
      "metadata": {
        "id": "5vwyT44Y5GBW"
      },
      "execution_count": 54,
      "outputs": []
    },
    {
      "cell_type": "code",
      "source": [
        "data.shape"
      ],
      "metadata": {
        "id": "f87M_D2L66sn",
        "outputId": "21a4d88a-26bc-4630-fc2c-af1988914f67",
        "colab": {
          "base_uri": "https://localhost:8080/"
        }
      },
      "execution_count": 63,
      "outputs": [
        {
          "output_type": "execute_result",
          "data": {
            "text/plain": [
              "(99000, 300)"
            ]
          },
          "metadata": {},
          "execution_count": 63
        }
      ]
    },
    {
      "cell_type": "code",
      "source": [
        "labels.shape"
      ],
      "metadata": {
        "id": "kNAHDRnC68a9",
        "outputId": "07ad1fde-b264-41e1-fcdd-71796c38c6fd",
        "colab": {
          "base_uri": "https://localhost:8080/"
        }
      },
      "execution_count": 64,
      "outputs": [
        {
          "output_type": "execute_result",
          "data": {
            "text/plain": [
              "(99000,)"
            ]
          },
          "metadata": {},
          "execution_count": 64
        }
      ]
    },
    {
      "cell_type": "markdown",
      "metadata": {
        "id": "WTLq5ii9zQ6O"
      },
      "source": [
        "### Evaluate (dev)\n"
      ]
    },
    {
      "cell_type": "code",
      "source": [
        "df_test = pd.read_csv(\"nlp_proj/dev/dev_2024.csv\", quoting=3, index_col=0)\n",
        "label2 = df_test['label'].values\n",
        "text2 = df_test['text'].values\n",
        "\n",
        "text_clean2 = clean_numpy_texts(text2)\n",
        "tokenizer = Tokenizer(num_words=10000) # This limits to the top 10,000 vocab\n",
        "tokenizer.fit_on_texts(text_clean2)\n",
        "sequences2 = tokenizer.texts_to_sequences(text_clean2)\n",
        "\n",
        "# Pad sequences\n",
        "max_sequence_length = 300  # This should be chosen based on your data\n",
        "data2 = pad_sequences(sequences2, maxlen=max_sequence_length)\n",
        "\n",
        "loss, accuracy = model.evaluate(data2, label2)\n",
        "\n",
        "print(f\"Loss: {loss}, Accuracy: {accuracy}\")"
      ],
      "metadata": {
        "id": "m7QztDzgFNWb",
        "outputId": "197c8bce-e7b1-420d-ba5f-bf5a5de95231",
        "colab": {
          "base_uri": "https://localhost:8080/"
        }
      },
      "execution_count": 100,
      "outputs": [
        {
          "output_type": "stream",
          "name": "stdout",
          "text": [
            "344/344 [==============================] - 2s 4ms/step - loss: 4.0167 - accuracy: 0.5988\n",
            "Loss: 4.016721248626709, Accuracy: 0.5988181829452515\n"
          ]
        }
      ]
    },
    {
      "cell_type": "markdown",
      "source": [
        "### Predict"
      ],
      "metadata": {
        "id": "PYOsMqtsFdow"
      }
    },
    {
      "cell_type": "code",
      "execution_count": 101,
      "metadata": {
        "id": "oFPmokJSzQ6O",
        "outputId": "9444b808-2f4a-4772-ef4d-ed7211e74cf4",
        "colab": {
          "base_uri": "https://localhost:8080/"
        }
      },
      "outputs": [
        {
          "output_type": "stream",
          "name": "stdout",
          "text": [
            "(12001, 300)\n"
          ]
        }
      ],
      "source": [
        "from keras.models import load_model\n",
        "\n",
        "model = load_model('glove_train')\n",
        "\n",
        "df_test = pd.read_csv(\"nlp_proj/test/test_2024.csv\", quoting=3, index_col=0)\n",
        "label2 = df_test['label'].values\n",
        "text2 = df_test['text'].values\n",
        "\n",
        "# Evaluate the model\n",
        "# Assuming test_data and test_labels are available\n",
        "\n",
        "text_clean2 = clean_numpy_texts(text2)\n",
        "tokenizer = Tokenizer(num_words=10000) # This limits to the top 10,000 vocab\n",
        "tokenizer.fit_on_texts(text_clean2)\n",
        "sequences2 = tokenizer.texts_to_sequences(text_clean2)\n",
        "\n",
        "# Pad sequences\n",
        "max_sequence_length = 300  # This should be chosen based on your data\n",
        "data2 = pad_sequences(sequences2, maxlen=max_sequence_length)\n",
        "\n",
        "print(data2.shape)"
      ]
    },
    {
      "cell_type": "code",
      "source": [
        "print(label2[0:10])"
      ],
      "metadata": {
        "id": "u9XKctjy8oCx",
        "outputId": "9e42987a-a427-4aae-d714-4d7552d6bde9",
        "colab": {
          "base_uri": "https://localhost:8080/"
        }
      },
      "execution_count": 76,
      "outputs": [
        {
          "output_type": "stream",
          "name": "stdout",
          "text": [
            "['?' '?' '?' '?' '?' '?' '?' '?' '?' '?']\n"
          ]
        }
      ]
    },
    {
      "cell_type": "code",
      "source": [
        "from sklearn.metrics import classification_report\n",
        "\n",
        "print('Predicting labels for {:,} test sentences...'.format(len(data2)))\n",
        "\n",
        "# Predict the labels for the test set\n",
        "predictions = model.predict(data2)\n",
        "\n",
        "print('Predictions ready!')\n",
        "\n",
        "# Optionally, calculate probabilities for detailed threshold analysis (if your model supports it)\n",
        "# probabilities = model.predict_proba(test_features)[:, 1]\n",
        "\n",
        "y_converted = np.where(np.array(label2) == '?', 1, label2)\n",
        "y_test = y_converted.astype(int)  # just a numpy array of zeros..\n",
        "\n",
        "# Evaluate the predictions\n",
        "# Assuming binary classification for simplicity. Adapt as needed.\n",
        "print(y_test[:10])\n",
        "print(predictions[:10])\n",
        "\n",
        "def sigmoid(x):\n",
        "    return 1 / (1 + np.exp(-x))\n",
        "\n",
        "# Assuming `predictions` is an array of logits from your model\n",
        "# Convert logits to probabilities using sigmoid\n",
        "probabilities = sigmoid(predictions)\n",
        "\n",
        "# Assuming a default threshold of 0.5 for binary classification\n",
        "threshold = 0.5\n",
        "binary_predictions = (probabilities >= threshold).astype(int)\n",
        "print(classification_report(y_test, binary_predictions))\n",
        "\n",
        "binary_predictions = np.squeeze(binary_predictions)\n",
        "\n",
        "# Save predictions to a DataFrame and then to a CSV file for later analysis or submission\n",
        "df_predictions = pd.DataFrame({\n",
        "    'true_labels': y_test,\n",
        "    'predicted_labels': binary_predictions\n",
        "})\n",
        "\n",
        "csv_file_path = './submission_glove_2024.csv'\n",
        "df_predictions.to_csv(csv_file_path, index=False)\n",
        "\n",
        "print(\"Evaluation and saving of predictions complete.\")"
      ],
      "metadata": {
        "id": "AEmnwJbp7dOs",
        "outputId": "95ef0861-07bf-4d79-b6d2-daf8618bde16",
        "colab": {
          "base_uri": "https://localhost:8080/"
        }
      },
      "execution_count": 97,
      "outputs": [
        {
          "output_type": "stream",
          "name": "stdout",
          "text": [
            "Predicting labels for 12,001 test sentences...\n",
            "376/376 [==============================] - 1s 3ms/step\n",
            "Predictions ready!\n",
            "[1 1 1 1 1 1 1 1 1 1]\n",
            "[[1.1938126e-03]\n",
            " [9.6738181e-04]\n",
            " [9.9938941e-01]\n",
            " [7.0514029e-14]\n",
            " [9.9999368e-01]\n",
            " [7.4900097e-01]\n",
            " [9.9999714e-01]\n",
            " [3.2817082e-11]\n",
            " [2.1551286e-06]\n",
            " [1.3162944e-03]]\n",
            "              precision    recall  f1-score   support\n",
            "\n",
            "           1       1.00      1.00      1.00     12001\n",
            "\n",
            "    accuracy                           1.00     12001\n",
            "   macro avg       1.00      1.00      1.00     12001\n",
            "weighted avg       1.00      1.00      1.00     12001\n",
            "\n",
            "Evaluation and saving of predictions complete.\n"
          ]
        }
      ]
    },
    {
      "cell_type": "code",
      "source": [
        "class_labels = np.argmax(predictions, axis=1)"
      ],
      "metadata": {
        "id": "Zfk55mKs-GJv"
      },
      "execution_count": 78,
      "outputs": []
    },
    {
      "cell_type": "code",
      "source": [
        "class_labels[:80]"
      ],
      "metadata": {
        "id": "oThBIIlX-V2O",
        "outputId": "54059817-2641-4cc9-c77e-5debb1896497",
        "colab": {
          "base_uri": "https://localhost:8080/"
        }
      },
      "execution_count": 83,
      "outputs": [
        {
          "output_type": "execute_result",
          "data": {
            "text/plain": [
              "array([0, 0, 0, 0, 0, 0, 0, 0, 0, 0, 0, 0, 0, 0, 0, 0, 0, 0, 0, 0, 0, 0,\n",
              "       0, 0, 0, 0, 0, 0, 0, 0, 0, 0, 0, 0, 0, 0, 0, 0, 0, 0, 0, 0, 0, 0,\n",
              "       0, 0, 0, 0, 0, 0, 0, 0, 0, 0, 0, 0, 0, 0, 0, 0, 0, 0, 0, 0, 0, 0,\n",
              "       0, 0, 0, 0, 0, 0, 0, 0, 0, 0, 0, 0, 0, 0])"
            ]
          },
          "metadata": {},
          "execution_count": 83
        }
      ]
    },
    {
      "cell_type": "markdown",
      "metadata": {
        "id": "jPljEzulzQ6O"
      },
      "source": [
        "### Load saved model"
      ]
    },
    {
      "cell_type": "code",
      "execution_count": null,
      "metadata": {
        "id": "HzwkSZePzQ6O"
      },
      "outputs": [],
      "source": [
        "models_dir = './models/'\n",
        "model2 = BertForSequenceClassification.from_pretrained(models_dir)\n",
        "tokenizer2 = BertTokenizer.from_pretrained(models_dir)\n",
        "\n",
        "# set model to the GPU\n",
        "#model.to(device)\n"
      ]
    },
    {
      "cell_type": "code",
      "execution_count": null,
      "metadata": {
        "id": "5BK-evRHzQ6O",
        "outputId": "8564c5a6-7d5c-49c7-89d9-038eab4178d3"
      },
      "outputs": [
        {
          "data": {
            "text/html": [
              "<div>\n",
              "<style scoped>\n",
              "    .dataframe tbody tr th:only-of-type {\n",
              "        vertical-align: middle;\n",
              "    }\n",
              "\n",
              "    .dataframe tbody tr th {\n",
              "        vertical-align: top;\n",
              "    }\n",
              "\n",
              "    .dataframe thead th {\n",
              "        text-align: right;\n",
              "    }\n",
              "</style>\n",
              "<table border=\"1\" class=\"dataframe\">\n",
              "  <thead>\n",
              "    <tr style=\"text-align: right;\">\n",
              "      <th></th>\n",
              "      <th>text</th>\n",
              "      <th>label</th>\n",
              "    </tr>\n",
              "    <tr>\n",
              "      <th>id</th>\n",
              "      <th></th>\n",
              "      <th></th>\n",
              "    </tr>\n",
              "  </thead>\n",
              "  <tbody>\n",
              "    <tr>\n",
              "      <th>0</th>\n",
              "      <td>I get the odd feeling Klastri  the head of the ACLU of Hawaii  will step in and defend this scum...</td>\n",
              "      <td>?</td>\n",
              "    </tr>\n",
              "    <tr>\n",
              "      <th>1</th>\n",
              "      <td>I couldn't disagree more with this column; Canadians have moved on and don't care how primarily ...</td>\n",
              "      <td>?</td>\n",
              "    </tr>\n",
              "    <tr>\n",
              "      <th>2</th>\n",
              "      <td>Does the property owner have a vote in the  tax increase?  And maybe it's time to scale back the...</td>\n",
              "      <td>?</td>\n",
              "    </tr>\n",
              "  </tbody>\n",
              "</table>\n",
              "</div>"
            ],
            "text/plain": [
              "                                                                                                   text  \\\n",
              "id                                                                                                        \n",
              "0   I get the odd feeling Klastri  the head of the ACLU of Hawaii  will step in and defend this scum...   \n",
              "1   I couldn't disagree more with this column; Canadians have moved on and don't care how primarily ...   \n",
              "2   Does the property owner have a vote in the  tax increase?  And maybe it's time to scale back the...   \n",
              "\n",
              "   label  \n",
              "id        \n",
              "0      ?  \n",
              "1      ?  \n",
              "2      ?  "
            ]
          },
          "execution_count": 37,
          "metadata": {},
          "output_type": "execute_result"
        }
      ],
      "source": [
        "df_test = pd.read_csv(\"./test/test_2024.csv\", quoting=3, index_col=0)\n",
        "df_test.head(3)"
      ]
    },
    {
      "cell_type": "code",
      "execution_count": null,
      "metadata": {
        "id": "teCMg7P2zQ6O",
        "outputId": "2689060c-de48-41cc-f248-911b776f47ac"
      },
      "outputs": [
        {
          "name": "stdout",
          "output_type": "stream",
          "text": [
            "<class 'pandas.core.frame.DataFrame'>\n",
            "Index: 12001 entries, 0 to 12000\n",
            "Data columns (total 2 columns):\n",
            " #   Column  Non-Null Count  Dtype \n",
            "---  ------  --------------  ----- \n",
            " 0   text    12001 non-null  object\n",
            " 1   label   12001 non-null  object\n",
            "dtypes: object(2)\n",
            "memory usage: 281.3+ KB\n"
          ]
        }
      ],
      "source": [
        "df_test.info()"
      ]
    },
    {
      "cell_type": "code",
      "execution_count": null,
      "metadata": {
        "id": "VwXA2KtgzQ6O"
      },
      "outputs": [],
      "source": [
        "label2 = df_test['label'].values\n",
        "text2 = df_test['text'].values"
      ]
    },
    {
      "cell_type": "markdown",
      "metadata": {
        "id": "MtZGtugozQ6P"
      },
      "source": [
        "### Prepare test set for evaluation"
      ]
    },
    {
      "cell_type": "code",
      "execution_count": null,
      "metadata": {
        "id": "y0HgNalAzQ6P",
        "outputId": "43b124dc-e3f8-4a88-e27c-d78843e3aa67"
      },
      "outputs": [
        {
          "name": "stdout",
          "output_type": "stream",
          "text": [
            "cleaned len: 12001\n",
            "org len: 12001\n",
            "texts:\n",
            " get odd feeling klastri head aclu hawaii step defend scum freedom speech\n",
            "Tokenized Texts:\n",
            " [101, 2131, 5976, 3110, 1047, 8523, 18886, 2132, 9353, 7630, 7359, 3357, 6985, 8040, 2819, 4071, 4613, 102]\n",
            "\n",
            "Padding/truncating all sentences to 140 length\n",
            "Padding token: \"[PAD]\", ID: 0\n"
          ]
        }
      ],
      "source": [
        "# clean sentences\n",
        "text_clean2 = clean_numpy_texts(text2)\n",
        "print(\"cleaned len:\", len(text_clean2))\n",
        "print(\"org len:\", len(text2))\n",
        "\n",
        "# make token vectors\n",
        "token_vectors2 = tokenize_texts(text_clean2,tokenizer2)\n",
        "print(\"texts:\\n\", text_clean2[:][0])\n",
        "print(\"Tokenized Texts:\\n\", token_vectors2[0])\n",
        "\n",
        "# set max length\n",
        "MAX_LEN = 140\n",
        "\n",
        "print(f'\\nPadding/truncating all sentences to {MAX_LEN} length')\n",
        "print(f'Padding token: \"{tokenizer2.pad_token}\", ID: {tokenizer2.pad_token_id}')\n",
        "\n",
        "# truncate and then pad tokens with value 0.\n",
        "padded_token_vectors2 = custom_pad_sequences(token_vectors2, maxlen=MAX_LEN, padding_value=0)\n"
      ]
    },
    {
      "cell_type": "code",
      "execution_count": null,
      "metadata": {
        "id": "5adE6VEkzQ6P",
        "outputId": "331f79e1-ec67-48b8-b8c3-4d7fc31297a7"
      },
      "outputs": [
        {
          "name": "stdout",
          "output_type": "stream",
          "text": [
            "12001\n",
            "12001\n"
          ]
        }
      ],
      "source": [
        "y_converted = np.where(np.array(label2) == '?', 1, label2)\n",
        "y_test = y_converted.astype(int)  # just a numpy array of zeros..\n",
        "\n",
        "# convert to tensors.\n",
        "prediction_inputs = torch.tensor(padded_token_vectors2)\n",
        "prediction_labels = torch.tensor(y_test)\n",
        "prediction_masks = torch.tensor(attention_masks2)\n",
        "\n",
        "batch_size = 16\n",
        "\n",
        "# create dataLoader.\n",
        "prediction_data = TensorDataset(prediction_inputs, prediction_masks, prediction_labels)\n",
        "prediction_sampler = SequentialSampler(prediction_data)\n",
        "prediction_dataloader = DataLoader(prediction_data, sampler=prediction_sampler, batch_size=batch_size)\n",
        "\n",
        "print(len(label2))\n",
        "print(len(padded_token_vectors2))"
      ]
    },
    {
      "cell_type": "code",
      "execution_count": 84,
      "metadata": {
        "id": "sPpIUF6uzQ6P",
        "outputId": "af57ad0a-220f-4e21-ee06-1d46ae98d1dd",
        "colab": {
          "base_uri": "https://localhost:8080/",
          "height": 221
        }
      },
      "outputs": [
        {
          "output_type": "error",
          "ename": "NameError",
          "evalue": "name 'prediction_inputs' is not defined",
          "traceback": [
            "\u001b[0;31m---------------------------------------------------------------------------\u001b[0m",
            "\u001b[0;31mNameError\u001b[0m                                 Traceback (most recent call last)",
            "\u001b[0;32m<ipython-input-84-b50c2300a5a0>\u001b[0m in \u001b[0;36m<cell line: 2>\u001b[0;34m()\u001b[0m\n\u001b[1;32m      1\u001b[0m \u001b[0;31m# predictions from test set\u001b[0m\u001b[0;34m\u001b[0m\u001b[0;34m\u001b[0m\u001b[0m\n\u001b[0;32m----> 2\u001b[0;31m \u001b[0mprint\u001b[0m\u001b[0;34m(\u001b[0m\u001b[0;34m'Predicting labels for {:,} test sentences...'\u001b[0m\u001b[0;34m.\u001b[0m\u001b[0mformat\u001b[0m\u001b[0;34m(\u001b[0m\u001b[0mlen\u001b[0m\u001b[0;34m(\u001b[0m\u001b[0mprediction_inputs\u001b[0m\u001b[0;34m)\u001b[0m\u001b[0;34m)\u001b[0m\u001b[0;34m)\u001b[0m\u001b[0;34m\u001b[0m\u001b[0;34m\u001b[0m\u001b[0m\n\u001b[0m\u001b[1;32m      3\u001b[0m \u001b[0;34m\u001b[0m\u001b[0m\n\u001b[1;32m      4\u001b[0m \u001b[0;31m# evaluation mode\u001b[0m\u001b[0;34m\u001b[0m\u001b[0;34m\u001b[0m\u001b[0m\n\u001b[1;32m      5\u001b[0m \u001b[0mmodel\u001b[0m\u001b[0;34m.\u001b[0m\u001b[0meval\u001b[0m\u001b[0;34m(\u001b[0m\u001b[0;34m)\u001b[0m\u001b[0;34m\u001b[0m\u001b[0;34m\u001b[0m\u001b[0m\n",
            "\u001b[0;31mNameError\u001b[0m: name 'prediction_inputs' is not defined"
          ]
        }
      ],
      "source": [
        "# predictions from test set\n",
        "print('Predicting labels for {:,} test sentences...'.format(len(prediction_inputs)))\n",
        "\n",
        "# evaluation mode\n",
        "model.eval()\n",
        "predictions , true_labels = [], []\n",
        "\n",
        "# predict\n",
        "for batch in prediction_dataloader:\n",
        "  # add batch to GPU\n",
        "  batch = tuple(t.to(device) for t in batch)\n",
        "\n",
        "  # unpack inputs from dataloader\n",
        "  b_input_ids, b_input_mask, b_labels = batch\n",
        "\n",
        "  with torch.no_grad():\n",
        "      # Forward pass, calculate logit predictions\n",
        "      outputs = model(b_input_ids, token_type_ids=None,\n",
        "                      attention_mask=b_input_mask)\n",
        "\n",
        "  logits = outputs[0]\n",
        "\n",
        "  # move logits and labels to CPU\n",
        "  logits = logits.detach().cpu().numpy()\n",
        "  label_ids = b_labels.to('cpu').numpy()\n",
        "\n",
        "  predictions.append(logits)\n",
        "  true_labels.append(label_ids)\n",
        "\n",
        "print('Predictions ready!')"
      ]
    },
    {
      "cell_type": "code",
      "execution_count": 85,
      "metadata": {
        "id": "RiJtasdUzQ6P",
        "outputId": "a74e0cbe-1e7d-4b2a-9573-34a1e44bc1b0",
        "colab": {
          "base_uri": "https://localhost:8080/",
          "height": 349
        }
      },
      "outputs": [
        {
          "output_type": "error",
          "ename": "IndexError",
          "evalue": "too many indices for array: array is 1-dimensional, but 2 were indexed",
          "traceback": [
            "\u001b[0;31m---------------------------------------------------------------------------\u001b[0m",
            "\u001b[0;31mIndexError\u001b[0m                                Traceback (most recent call last)",
            "\u001b[0;32m<ipython-input-85-72d6c92cee88>\u001b[0m in \u001b[0;36m<cell line: 17>\u001b[0;34m()\u001b[0m\n\u001b[1;32m     15\u001b[0m     \u001b[0;32mreturn\u001b[0m \u001b[0mbinary_classifications\u001b[0m\u001b[0;34m\u001b[0m\u001b[0;34m\u001b[0m\u001b[0m\n\u001b[1;32m     16\u001b[0m \u001b[0;34m\u001b[0m\u001b[0m\n\u001b[0;32m---> 17\u001b[0;31m \u001b[0mbinary_classifications\u001b[0m \u001b[0;34m=\u001b[0m \u001b[0mconvert_logits_to_binary_classifications\u001b[0m\u001b[0;34m(\u001b[0m\u001b[0mpredictions\u001b[0m\u001b[0;34m)\u001b[0m\u001b[0;34m\u001b[0m\u001b[0;34m\u001b[0m\u001b[0m\n\u001b[0m\u001b[1;32m     18\u001b[0m \u001b[0;34m\u001b[0m\u001b[0m\n\u001b[1;32m     19\u001b[0m \u001b[0;31m# binary classifications for the first batch as an example\u001b[0m\u001b[0;34m\u001b[0m\u001b[0;34m\u001b[0m\u001b[0m\n",
            "\u001b[0;32m<ipython-input-85-72d6c92cee88>\u001b[0m in \u001b[0;36mconvert_logits_to_binary_classifications\u001b[0;34m(logits_list, threshold)\u001b[0m\n\u001b[1;32m      9\u001b[0m     \u001b[0;32mfor\u001b[0m \u001b[0mlogits\u001b[0m \u001b[0;32min\u001b[0m \u001b[0mlogits_list\u001b[0m\u001b[0;34m:\u001b[0m\u001b[0;34m\u001b[0m\u001b[0;34m\u001b[0m\u001b[0m\n\u001b[1;32m     10\u001b[0m         \u001b[0;31m# class 1 logits are in the second column (index 1)\u001b[0m\u001b[0;34m\u001b[0m\u001b[0;34m\u001b[0m\u001b[0m\n\u001b[0;32m---> 11\u001b[0;31m         \u001b[0mclass_1_logits\u001b[0m \u001b[0;34m=\u001b[0m \u001b[0mlogits\u001b[0m\u001b[0;34m[\u001b[0m\u001b[0;34m:\u001b[0m\u001b[0;34m,\u001b[0m \u001b[0;36m1\u001b[0m\u001b[0;34m]\u001b[0m\u001b[0;34m\u001b[0m\u001b[0;34m\u001b[0m\u001b[0m\n\u001b[0m\u001b[1;32m     12\u001b[0m         \u001b[0mprobabilities\u001b[0m \u001b[0;34m=\u001b[0m \u001b[0msigmoid\u001b[0m\u001b[0;34m(\u001b[0m\u001b[0mclass_1_logits\u001b[0m\u001b[0;34m)\u001b[0m\u001b[0;34m\u001b[0m\u001b[0;34m\u001b[0m\u001b[0m\n\u001b[1;32m     13\u001b[0m         \u001b[0mclassifications\u001b[0m \u001b[0;34m=\u001b[0m \u001b[0;34m(\u001b[0m\u001b[0mprobabilities\u001b[0m \u001b[0;34m>\u001b[0m \u001b[0mthreshold\u001b[0m\u001b[0;34m)\u001b[0m\u001b[0;34m.\u001b[0m\u001b[0mastype\u001b[0m\u001b[0;34m(\u001b[0m\u001b[0mint\u001b[0m\u001b[0;34m)\u001b[0m\u001b[0;34m\u001b[0m\u001b[0;34m\u001b[0m\u001b[0m\n",
            "\u001b[0;31mIndexError\u001b[0m: too many indices for array: array is 1-dimensional, but 2 were indexed"
          ]
        }
      ],
      "source": [
        "# Use sigmoid for classification\n",
        "# later check is there room to adjust the threshold\n",
        "\n",
        "def sigmoid(x):\n",
        "    return 1 / (1 + np.exp(-x))\n",
        "\n",
        "def convert_logits_to_binary_classifications(logits_list, threshold=0.5):\n",
        "    binary_classifications = []\n",
        "    for logits in logits_list:\n",
        "        # class 1 logits are in the second column (index 1)\n",
        "        class_1_logits = logits[:, 1]\n",
        "        probabilities = sigmoid(class_1_logits)\n",
        "        classifications = (probabilities > threshold).astype(int)\n",
        "        binary_classifications.append(classifications)\n",
        "    return binary_classifications\n",
        "\n",
        "binary_classifications = convert_logits_to_binary_classifications(predictions)\n",
        "\n",
        "# binary classifications for the first batch as an example\n",
        "print(\"Binary classifications for the first batch:\\n\", binary_classifications[0])"
      ]
    },
    {
      "cell_type": "code",
      "execution_count": null,
      "metadata": {
        "id": "8EhYvMyzzQ6P",
        "outputId": "de902be9-c679-43c8-ab66-5049e2ebf94a"
      },
      "outputs": [
        {
          "name": "stdout",
          "output_type": "stream",
          "text": [
            "Flattened Binary Classifications (NumPy array):\n",
            " [1 0 0 ... 1 1 0]\n"
          ]
        }
      ],
      "source": [
        "flat_pred = np.concatenate(binary_classifications)\n",
        "# flattened binary classifications\n",
        "print(\"Flattened Binary Classifications (NumPy array):\\n\", flat_pred)"
      ]
    },
    {
      "cell_type": "code",
      "execution_count": null,
      "metadata": {
        "id": "Y8f5AO_czQ6P",
        "outputId": "c7703737-c9e5-4480-d2c3-7b9d56169d92"
      },
      "outputs": [
        {
          "name": "stdout",
          "output_type": "stream",
          "text": [
            "12001\n",
            "6902\n"
          ]
        }
      ],
      "source": [
        "print(len(flat_pred))\n",
        "print(sum(flat_pred))"
      ]
    },
    {
      "cell_type": "code",
      "execution_count": null,
      "metadata": {
        "id": "misje6vdzQ6Q"
      },
      "outputs": [],
      "source": [
        "df_predictions = pd.DataFrame({\n",
        "    'id': range(len(flat_pred)),\n",
        "    'label': flat_pred\n",
        "})\n",
        "# save to a CSV file\n",
        "csv_file_path = './submissions/submission2_2024.csv'\n",
        "df_predictions.to_csv(csv_file_path, index=False)"
      ]
    },
    {
      "cell_type": "code",
      "execution_count": null,
      "metadata": {
        "id": "h8KVNBHRzQ6Q"
      },
      "outputs": [],
      "source": []
    }
  ],
  "metadata": {
    "kernelspec": {
      "display_name": "virky",
      "language": "python",
      "name": "virky"
    },
    "language_info": {
      "codemirror_mode": {
        "name": "ipython",
        "version": 3
      },
      "file_extension": ".py",
      "mimetype": "text/x-python",
      "name": "python",
      "nbconvert_exporter": "python",
      "pygments_lexer": "ipython3",
      "version": "3.8.16"
    },
    "colab": {
      "provenance": [],
      "gpuType": "T4"
    },
    "accelerator": "GPU"
  },
  "nbformat": 4,
  "nbformat_minor": 0
}
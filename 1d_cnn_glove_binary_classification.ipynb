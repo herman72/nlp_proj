{
 "cells": [
  {
   "cell_type": "markdown",
   "metadata": {},
   "source": [
    "## 1D Convolutional Neural Network (CNN) with GloVe embeddings for hate speech detection ##"
   ]
  },
  {
   "cell_type": "markdown",
   "metadata": {},
   "source": [
    "### Instructions\n",
    "\n",
    "The data for the competition has been pre-partitioned into 3 sets: train,dev,test\n",
    "\n",
    "The test data consists of two parts: public and private, the leaderboard will display the performance<br>\n",
    "on the public part, and we will announce the final results on the private test set after 04/12/2024.<br>"
   ]
  },
  {
   "cell_type": "markdown",
   "metadata": {},
   "source": [
    "*Files*\n",
    "\n",
    "    train_2024.csv - the training set, 99000 rows\n",
    "    dev_2024.csv - the development set, 11000 rows\n",
    "    test_2024.csv - the test set, 12001 rows\n",
    "    sample_submission_2024.csv - a sample submission file in the correct format\n",
    "\n",
    "*Columns*\n",
    "\n",
    "    id - column for the example_id within the set\n",
    "    text - the text of the comment\n",
    "    label - binary label (1=Toxic/0=NonToxic)\n"
   ]
  },
  {
   "cell_type": "code",
   "execution_count": 1,
   "metadata": {},
   "outputs": [],
   "source": [
    "import pandas as pd\n",
    "import numpy as np\n",
    "import torch\n",
    "import torch.nn as nn\n",
    "import time\n",
    "import datetime\n",
    "import random\n",
    "import os\n"
   ]
  },
  {
   "cell_type": "code",
   "execution_count": 2,
   "metadata": {},
   "outputs": [],
   "source": [
    "# --- Debug cuda issues ---\n",
    "#!nvcc --version\n",
    "#import torch\n",
    "#print(torch.__version__)\n",
    "#print(torch.version.cuda)\n",
    "#print(torch.cuda.is_available())\n",
    "#print(torch.cuda.device_count())\n",
    "#print(torch.cuda.get_device_name(0))"
   ]
  },
  {
   "cell_type": "code",
   "execution_count": 3,
   "metadata": {},
   "outputs": [],
   "source": [
    "\n",
    "import matplotlib.pyplot as plt\n",
    "from transformers import BertTokenizer\n",
    "from sklearn.model_selection import train_test_split\n",
    "from torch.utils.data import TensorDataset, DataLoader, RandomSampler, SequentialSampler\n",
    "from transformers import BertForSequenceClassification, AdamW, BertConfig\n",
    "from transformers import get_linear_schedule_with_warmup\n",
    "from sklearn.utils.class_weight import compute_class_weight"
   ]
  },
  {
   "cell_type": "code",
   "execution_count": 4,
   "metadata": {},
   "outputs": [],
   "source": [
    "#!pip install transformers"
   ]
  },
  {
   "cell_type": "markdown",
   "metadata": {},
   "source": [
    "### Check is GPU available"
   ]
  },
  {
   "cell_type": "code",
   "execution_count": 5,
   "metadata": {},
   "outputs": [
    {
     "name": "stdout",
     "output_type": "stream",
     "text": [
      "Running with cuda, 1 GPU available.\n",
      "GPU: NVIDIA GeForce RTX 2070 Super with Max-Q Design\n"
     ]
    }
   ],
   "source": [
    "if torch.cuda.is_available():\n",
    "    device = torch.device(\"cuda\")\n",
    "    print('Running with %s, %d GPU available.' % (device, torch.cuda.device_count()))\n",
    "    print('GPU:', torch.cuda.get_device_name(0))\n",
    "else:\n",
    "    print('No GPU detected! use colab or some other env')"
   ]
  },
  {
   "cell_type": "code",
   "execution_count": 51,
   "metadata": {},
   "outputs": [
    {
     "data": {
      "text/html": [
       "<div>\n",
       "<style scoped>\n",
       "    .dataframe tbody tr th:only-of-type {\n",
       "        vertical-align: middle;\n",
       "    }\n",
       "\n",
       "    .dataframe tbody tr th {\n",
       "        vertical-align: top;\n",
       "    }\n",
       "\n",
       "    .dataframe thead th {\n",
       "        text-align: right;\n",
       "    }\n",
       "</style>\n",
       "<table border=\"1\" class=\"dataframe\">\n",
       "  <thead>\n",
       "    <tr style=\"text-align: right;\">\n",
       "      <th></th>\n",
       "      <th>text</th>\n",
       "      <th>label</th>\n",
       "    </tr>\n",
       "  </thead>\n",
       "  <tbody>\n",
       "    <tr>\n",
       "      <th>0</th>\n",
       "      <td>Except that Desmond played first base last night. Tapia was in LF  and Reynolds had a night off.</td>\n",
       "      <td>0</td>\n",
       "    </tr>\n",
       "    <tr>\n",
       "      <th>1</th>\n",
       "      <td>What i find funny is the loyalty and blindness of english community. The worst possible choice f...</td>\n",
       "      <td>0</td>\n",
       "    </tr>\n",
       "    <tr>\n",
       "      <th>2</th>\n",
       "      <td>Read the article  not just the headline &amp; you will find out.</td>\n",
       "      <td>0</td>\n",
       "    </tr>\n",
       "  </tbody>\n",
       "</table>\n",
       "</div>"
      ],
      "text/plain": [
       "                                                                                                  text  \\\n",
       "0     Except that Desmond played first base last night. Tapia was in LF  and Reynolds had a night off.   \n",
       "1  What i find funny is the loyalty and blindness of english community. The worst possible choice f...   \n",
       "2                                         Read the article  not just the headline & you will find out.   \n",
       "\n",
       "   label  \n",
       "0      0  \n",
       "1      0  \n",
       "2      0  "
      ]
     },
     "execution_count": 51,
     "metadata": {},
     "output_type": "execute_result"
    }
   ],
   "source": [
    "df = pd.read_csv(\"./train/train_2024.csv\", quoting=3, index_col=0)\n",
    "\n",
    "# uncomm below if you want to combine train and dev sets (train test split do the split)\n",
    "#df_dev = pd.read_csv(\"./dev/dev_2024.csv\", quoting=3, index_col=0)   #dev set\n",
    "#df = pd.concat([df, df_dev])\n",
    "\n",
    "df.reset_index(drop=True, inplace=True)\n",
    "df.head(3)"
   ]
  },
  {
   "cell_type": "code",
   "execution_count": 7,
   "metadata": {},
   "outputs": [],
   "source": [
    "# uncomment to test with small amount of sentences\n",
    "#df = df.iloc[:5000]"
   ]
  },
  {
   "cell_type": "code",
   "execution_count": 52,
   "metadata": {},
   "outputs": [
    {
     "name": "stdout",
     "output_type": "stream",
     "text": [
      "<class 'pandas.core.frame.DataFrame'>\n",
      "RangeIndex: 99000 entries, 0 to 98999\n",
      "Data columns (total 2 columns):\n",
      " #   Column  Non-Null Count  Dtype \n",
      "---  ------  --------------  ----- \n",
      " 0   text    99000 non-null  object\n",
      " 1   label   99000 non-null  int64 \n",
      "dtypes: int64(1), object(1)\n",
      "memory usage: 1.5+ MB\n"
     ]
    }
   ],
   "source": [
    "pd.set_option('display.max_colwidth', 100)\n",
    "df.info()"
   ]
  },
  {
   "cell_type": "code",
   "execution_count": 53,
   "metadata": {},
   "outputs": [
    {
     "data": {
      "image/png": "[encoded data removed]",
      "text/plain": [
       "<Figure size 800x600 with 1 Axes>"
      ]
     },
     "metadata": {},
     "output_type": "display_data"
    }
   ],
   "source": [
    "\n",
    "# let's visualize the class distribution\n",
    "class_counts = df['label'].value_counts()\n",
    "labels = df['label'].values\n",
    "text = df['text'].values\n",
    "\n",
    "# pie chart\n",
    "plt.figure(figsize=(8, 6))\n",
    "plt.pie(class_counts, labels=['hate-speech = Class 1', 'non-hate-speech = Class 0'], autopct='%1.1f%%', startangle=30)\n",
    "plt.title('Class Distribution Before Balancing')\n",
    "plt.show()\n"
   ]
  },
  {
   "cell_type": "markdown",
   "metadata": {},
   "source": [
    "### balance classes with weights"
   ]
  },
  {
   "cell_type": "code",
   "execution_count": 10,
   "metadata": {},
   "outputs": [],
   "source": [
    "# normalize by weights\n",
    "\n",
    "class_wts = compute_class_weight(class_weight=\"balanced\", classes=np.unique(labels), y=labels)\n",
    "weights = torch.tensor(class_wts, dtype=torch.float)\n",
    "weights = weights.to(device)\n",
    "\n",
    "cross_entropy = nn.CrossEntropyLoss(weight=weights)"
   ]
  },
  {
   "cell_type": "markdown",
   "metadata": {},
   "source": [
    "## Pre-processing"
   ]
  },
  {
   "cell_type": "code",
   "execution_count": 11,
   "metadata": {},
   "outputs": [],
   "source": [
    "#!pip install clean-text\n",
    "#!pip install Unidecode\n",
    "#!pip install spacy"
   ]
  },
  {
   "cell_type": "markdown",
   "metadata": {},
   "source": [
    "### Clean the data"
   ]
  },
  {
   "cell_type": "code",
   "execution_count": 12,
   "metadata": {},
   "outputs": [
    {
     "name": "stdout",
     "output_type": "stream",
     "text": [
      "cleaned len: 110000\n",
      "org len: 110000\n"
     ]
    }
   ],
   "source": [
    "import numpy as np\n",
    "from nltk.tokenize import word_tokenize\n",
    "from nltk.corpus import stopwords\n",
    "from nltk.stem import WordNetLemmatizer\n",
    "import re\n",
    "\n",
    "# lemmatizer\n",
    "lemmatizer = WordNetLemmatizer()\n",
    "\n",
    "# stopwords (this, that, at..)\n",
    "stop_words = set(stopwords.words('english'))\n",
    "\n",
    "# maintain some stopwords that might be useful for hatespeech detection\n",
    "words_to_retain = {\"not\", \"no\", \"never\", \"none\", \"he\", \"she\", \"they\", \"them\", \"but\", \"against\", \"without\", \"is\", \"are\", \"was\", \"were\"}\n",
    "\n",
    "# remove above important words from the stop words set\n",
    "stop_words = {word for word in stop_words if word not in words_to_retain}\n",
    "\n",
    "def clean_text_special(text):\n",
    "    # Lowercase the text\n",
    "    text = text.lower()\n",
    "    \n",
    "    # remove URLs\n",
    "    text = re.sub(r'http\\S+|www\\S+|https\\S+', '', text)  # Remove URLs\n",
    "    \n",
    "    # remove numbers (but leave special characters that could refer to curse words)\n",
    "    text = re.sub(r'\\d+', '', text)  # Remove digits\n",
    "    \n",
    "    # tokenize the text\n",
    "    tokens = word_tokenize(text)\n",
    "    \n",
    "    # remove stopwords and lemmatize, keeping special characters\n",
    "    cleaned_tokens = [lemmatizer.lemmatize(token) for token in tokens if token not in stop_words and (token.isalnum() or re.match(r'[@#$%^&*]', token))]\n",
    "    \n",
    "    # join tokens back into a single string, keeping special characters\n",
    "    cleaned_text = ' '.join(cleaned_tokens)\n",
    "    \n",
    "    return cleaned_text\n",
    "\n",
    "def clean_numpy_texts(texts_array):\n",
    "    vectorized_clean = np.vectorize(clean_text_special)  # vectorize the cleaning function for efficiency\n",
    "    return vectorized_clean(texts_array)\n",
    "\n",
    "text_clean = clean_numpy_texts(text)\n",
    "print(\"cleaned len:\", len(text_clean))\n",
    "print(\"org len:\", len(text))\n"
   ]
  },
  {
   "cell_type": "code",
   "execution_count": 13,
   "metadata": {},
   "outputs": [],
   "source": [
    "# save cleaned numpy array to file\n",
    "np.save('text_clean.npy', text_clean)"
   ]
  },
  {
   "cell_type": "code",
   "execution_count": 14,
   "metadata": {},
   "outputs": [
    {
     "name": "stdout",
     "output_type": "stream",
     "text": [
      "except desmond played first base last night tapia wa lf reynolds night\n",
      "num of sentences: 110000\n"
     ]
    }
   ],
   "source": [
    "# load numpy array from the file\n",
    "text_clean = np.load('text_clean.npy')\n",
    "\n",
    "print(text_clean[0])\n",
    "print(\"num of sentences:\", len(text_clean))"
   ]
  },
  {
   "cell_type": "markdown",
   "source": [
    "### Load GloVe Embeddings into a Dictionary"
   ],
   "metadata": {
    "collapsed": false
   }
  },
  {
   "cell_type": "code",
   "execution_count": null,
   "outputs": [],
   "source": [
    "def load_glove_embeddings(path):\n",
    "    embeddings_dict = {}\n",
    "    with open(path, 'r', encoding='utf-8') as f:\n",
    "        for line in f:\n",
    "            values = line.split()\n",
    "            word = values[0]\n",
    "            vector = np.asarray(values[1:], \"float32\")\n",
    "            embeddings_dict[word] = vector\n",
    "    return embeddings_dict\n",
    "\n",
    "glove_path = 'path_to_your_glove_embeddings.txt'\n",
    "embeddings_dict = load_glove_embeddings(glove_path)"
   ],
   "metadata": {
    "collapsed": false
   }
  },
  {
   "cell_type": "markdown",
   "metadata": {},
   "source": [
    "### tokenization example"
   ]
  },
  {
   "cell_type": "code",
   "execution_count": 15,
   "metadata": {},
   "outputs": [],
   "source": []
  },
  {
   "cell_type": "code",
   "execution_count": 16,
   "metadata": {},
   "outputs": [
    {
     "name": "stdout",
     "output_type": "stream",
     "text": [
      "['except', 'desmond', 'played', 'first', 'base', 'last', 'night', 'tap', '##ia', 'wa', 'l', '##f', 'reynolds', 'night']\n",
      "[CLS] + [3272, 16192, 2209, 2034, 2918, 2197, 2305, 11112, 2401, 11333, 1048, 2546, 9579, 2305] + [SEP]\n",
      "[101, 3272, 16192, 2209, 2034, 2918, 2197, 2305, 11112, 2401, 11333, 1048, 2546, 9579, 2305, 102]\n"
     ]
    }
   ],
   "source": []
  },
  {
   "cell_type": "code",
   "execution_count": 17,
   "metadata": {},
   "outputs": [],
   "source": [
    "from keras.preprocessing.text import Tokenizer\n",
    "from keras.preprocessing.sequence import pad_sequences\n",
    "\n",
    "# Initialize and fit the tokenizer\n",
    "tokenizer = Tokenizer(num_words=10000) # This limits to the top 10,000 vocab\n",
    "tokenizer.fit_on_texts(text_clean)\n",
    "sequences = tokenizer.texts_to_sequences(text_clean)\n",
    "\n",
    "# Pad sequences\n",
    "max_sequence_length = 100  # This should be chosen based on your data\n",
    "data = pad_sequences(sequences, maxlen=max_sequence_length)\n",
    "\n",
    "# Create an embedding matrix\n",
    "embedding_dim = 100  # Or the dimension of your GloVe vectors\n",
    "vocab_size = len(tokenizer.word_index) + 1  # Adding 1 to account for padding token\n",
    "embedding_matrix = np.zeros((vocab_size, embedding_dim))\n",
    "for word, i in tokenizer.word_index.items():\n",
    "    embedding_vector = embeddings_dict.get(word)\n",
    "    if embedding_vector is not None:\n",
    "        embedding_matrix[i] = embedding_vector"
   ]
  },
  {
   "cell_type": "code",
   "execution_count": 18,
   "metadata": {},
   "outputs": [
    {
     "name": "stdout",
     "output_type": "stream",
     "text": [
      "texts:\n",
      " except desmond played first base last night tapia wa lf reynolds night\n",
      "Tokenized Texts:\n",
      " [101, 3272, 16192, 2209, 2034, 2918, 2197, 2305, 11112, 2401, 11333, 1048, 2546, 9579, 2305, 102]\n"
     ]
    }
   ],
   "source": [
    "print(\"texts:\\n\", text_clean[:][0])\n",
    "print(\"Tokenized Texts:\\n\", embedding_matrix[0])"
   ]
  },
  {
   "cell_type": "markdown",
   "metadata": {},
   "source": [
    "### Check the length distribution of token_vectors"
   ]
  },
  {
   "cell_type": "code",
   "execution_count": 19,
   "metadata": {},
   "outputs": [
    {
     "data": {
      "image/png": "[encoded data removed]",
      "text/plain": [
       "<Figure size 1800x500 with 1 Axes>"
      ]
     },
     "metadata": {},
     "output_type": "display_data"
    }
   ],
   "source": [
    "def sentence_len(ids):\n",
    "    sentence_lengths = [len(sen) for sen in ids]\n",
    "    maxbin = 300\n",
    "\n",
    "    # histogram\n",
    "    plt.figure(figsize=(18, 5))  # Set the figure size (optional)\n",
    "    plt.hist(sentence_lengths, bins=range(0, maxbin), edgecolor='black')  # Ensure bins include the maxbin value\n",
    "    plt.title('Histogram of Sentence Lengths')\n",
    "    plt.xlabel('Sentence Length')\n",
    "    plt.ylabel('Frequency')\n",
    "\n",
    "    # Set x-axis ticks to every 10th value. Adjust the range as needed.\n",
    "    plt.xticks(range(0, maxbin, 10))  # Starts from 1, goes up to maxbin, steps by 10\n",
    "    \n",
    "    plt.xticks(rotation=90)  # Rotate x-axis labels for better readability\n",
    "\n",
    "    plt.show()\n",
    "\n",
    "sentence_len(embedding_matrix)"
   ]
  },
  {
   "cell_type": "markdown",
   "metadata": {},
   "source": [
    "**truncate token vectors longer than given max length (140 tokens)**<br>\n",
    "**pad token vectors shorter than max lenght with zeros to max lenght (140)**"
   ]
  },
  {
   "cell_type": "code",
   "execution_count": 20,
   "metadata": {},
   "outputs": [
    {
     "name": "stdout",
     "output_type": "stream",
     "text": [
      "\n",
      "Padding/truncating all sentences to 140 length\n",
      "Padding token: \"[PAD]\", ID: 0\n"
     ]
    }
   ],
   "source": []
  },
  {
   "cell_type": "code",
   "execution_count": 21,
   "metadata": {},
   "outputs": [
    {
     "data": {
      "text/plain": [
       "[101,\n",
       " 3272,\n",
       " 16192,\n",
       " 2209,\n",
       " 2034,\n",
       " 2918,\n",
       " 2197,\n",
       " 2305,\n",
       " 11112,\n",
       " 2401,\n",
       " 11333,\n",
       " 1048,\n",
       " 2546,\n",
       " 9579,\n",
       " 2305,\n",
       " 102,\n",
       " 0,\n",
       " 0,\n",
       " 0,\n",
       " 0,\n",
       " 0,\n",
       " 0,\n",
       " 0,\n",
       " 0,\n",
       " 0,\n",
       " 0,\n",
       " 0,\n",
       " 0,\n",
       " 0,\n",
       " 0,\n",
       " 0,\n",
       " 0,\n",
       " 0,\n",
       " 0,\n",
       " 0,\n",
       " 0,\n",
       " 0,\n",
       " 0,\n",
       " 0,\n",
       " 0,\n",
       " 0,\n",
       " 0,\n",
       " 0,\n",
       " 0,\n",
       " 0,\n",
       " 0,\n",
       " 0,\n",
       " 0,\n",
       " 0,\n",
       " 0,\n",
       " 0,\n",
       " 0,\n",
       " 0,\n",
       " 0,\n",
       " 0,\n",
       " 0,\n",
       " 0,\n",
       " 0,\n",
       " 0,\n",
       " 0,\n",
       " 0,\n",
       " 0,\n",
       " 0,\n",
       " 0,\n",
       " 0,\n",
       " 0,\n",
       " 0,\n",
       " 0,\n",
       " 0,\n",
       " 0,\n",
       " 0,\n",
       " 0,\n",
       " 0,\n",
       " 0,\n",
       " 0,\n",
       " 0,\n",
       " 0,\n",
       " 0,\n",
       " 0,\n",
       " 0,\n",
       " 0,\n",
       " 0,\n",
       " 0,\n",
       " 0,\n",
       " 0,\n",
       " 0,\n",
       " 0,\n",
       " 0,\n",
       " 0,\n",
       " 0,\n",
       " 0,\n",
       " 0,\n",
       " 0,\n",
       " 0,\n",
       " 0,\n",
       " 0,\n",
       " 0,\n",
       " 0,\n",
       " 0,\n",
       " 0,\n",
       " 0,\n",
       " 0,\n",
       " 0,\n",
       " 0,\n",
       " 0,\n",
       " 0,\n",
       " 0,\n",
       " 0,\n",
       " 0,\n",
       " 0,\n",
       " 0,\n",
       " 0,\n",
       " 0,\n",
       " 0,\n",
       " 0,\n",
       " 0,\n",
       " 0,\n",
       " 0,\n",
       " 0,\n",
       " 0,\n",
       " 0,\n",
       " 0,\n",
       " 0,\n",
       " 0,\n",
       " 0,\n",
       " 0,\n",
       " 0,\n",
       " 0,\n",
       " 0,\n",
       " 0,\n",
       " 0,\n",
       " 0,\n",
       " 0,\n",
       " 0,\n",
       " 0,\n",
       " 0,\n",
       " 0,\n",
       " 0,\n",
       " 0,\n",
       " 0]"
      ]
     },
     "execution_count": 21,
     "metadata": {},
     "output_type": "execute_result"
    }
   ],
   "source": []
  },
  {
   "cell_type": "code",
   "execution_count": 22,
   "metadata": {},
   "outputs": [],
   "source": []
  },
  {
   "cell_type": "code",
   "execution_count": 23,
   "metadata": {},
   "outputs": [
    {
     "name": "stdout",
     "output_type": "stream",
     "text": [
      "110000\n",
      "110000\n"
     ]
    }
   ],
   "source": []
  },
  {
   "cell_type": "code",
   "execution_count": 24,
   "metadata": {},
   "outputs": [],
   "source": [
    "from keras.models import Sequential\n",
    "from keras.layers import Embedding, Conv1D, GlobalMaxPooling1D, Dense\n",
    "\n",
    "model = Sequential()\n",
    "model.add(Embedding(vocab_size, embedding_dim, input_length=max_sequence_length, \n",
    "                    weights=[embedding_matrix], trainable=False))\n",
    "model.add(Conv1D(128, 5, activation='relu'))\n",
    "model.add(GlobalMaxPooling1D())\n",
    "model.add(Dense(10, activation='relu'))\n",
    "model.add(Dense(1, activation='sigmoid'))  # Assuming binary classification\n",
    "\n",
    "model.compile(loss='binary_crossentropy', optimizer='adam', metrics=['accuracy'])\n"
   ]
  },
  {
   "cell_type": "code",
   "execution_count": 25,
   "metadata": {},
   "outputs": [],
   "source": []
  },
  {
   "cell_type": "code",
   "execution_count": 26,
   "metadata": {},
   "outputs": [],
   "source": []
  },
  {
   "cell_type": "code",
   "execution_count": 27,
   "metadata": {},
   "outputs": [],
   "source": []
  },
  {
   "cell_type": "code",
   "execution_count": 28,
   "metadata": {},
   "outputs": [
    {
     "name": "stderr",
     "output_type": "stream",
     "text": [
      "Some weights of BertForSequenceClassification were not initialized from the model checkpoint at bert-base-uncased and are newly initialized: ['classifier.bias', 'classifier.weight']\n",
      "You should probably TRAIN this model on a down-stream task to be able to use it for predictions and inference.\n"
     ]
    },
    {
     "data": {
      "text/plain": [
       "BertForSequenceClassification(\n",
       "  (bert): BertModel(\n",
       "    (embeddings): BertEmbeddings(\n",
       "      (word_embeddings): Embedding(30522, 768, padding_idx=0)\n",
       "      (position_embeddings): Embedding(512, 768)\n",
       "      (token_type_embeddings): Embedding(2, 768)\n",
       "      (LayerNorm): LayerNorm((768,), eps=1e-12, elementwise_affine=True)\n",
       "      (dropout): Dropout(p=0.1, inplace=False)\n",
       "    )\n",
       "    (encoder): BertEncoder(\n",
       "      (layer): ModuleList(\n",
       "        (0-11): 12 x BertLayer(\n",
       "          (attention): BertAttention(\n",
       "            (self): BertSelfAttention(\n",
       "              (query): Linear(in_features=768, out_features=768, bias=True)\n",
       "              (key): Linear(in_features=768, out_features=768, bias=True)\n",
       "              (value): Linear(in_features=768, out_features=768, bias=True)\n",
       "              (dropout): Dropout(p=0.1, inplace=False)\n",
       "            )\n",
       "            (output): BertSelfOutput(\n",
       "              (dense): Linear(in_features=768, out_features=768, bias=True)\n",
       "              (LayerNorm): LayerNorm((768,), eps=1e-12, elementwise_affine=True)\n",
       "              (dropout): Dropout(p=0.1, inplace=False)\n",
       "            )\n",
       "          )\n",
       "          (intermediate): BertIntermediate(\n",
       "            (dense): Linear(in_features=768, out_features=3072, bias=True)\n",
       "            (intermediate_act_fn): GELUActivation()\n",
       "          )\n",
       "          (output): BertOutput(\n",
       "            (dense): Linear(in_features=3072, out_features=768, bias=True)\n",
       "            (LayerNorm): LayerNorm((768,), eps=1e-12, elementwise_affine=True)\n",
       "            (dropout): Dropout(p=0.1, inplace=False)\n",
       "          )\n",
       "        )\n",
       "      )\n",
       "    )\n",
       "    (pooler): BertPooler(\n",
       "      (dense): Linear(in_features=768, out_features=768, bias=True)\n",
       "      (activation): Tanh()\n",
       "    )\n",
       "  )\n",
       "  (dropout): Dropout(p=0.1, inplace=False)\n",
       "  (classifier): Linear(in_features=768, out_features=2, bias=True)\n",
       ")"
      ]
     },
     "execution_count": 28,
     "metadata": {},
     "output_type": "execute_result"
    }
   ],
   "source": []
  },
  {
   "cell_type": "code",
   "execution_count": 29,
   "metadata": {},
   "outputs": [
    {
     "name": "stdout",
     "output_type": "stream",
     "text": [
      "201 parameters.\n",
      "\n",
      "Embedding Layer\n",
      "\n",
      "bert.embeddings.word_embeddings.weight                  (30522, 768)\n",
      "bert.embeddings.position_embeddings.weight                (512, 768)\n",
      "bert.embeddings.token_type_embeddings.weight                (2, 768)\n",
      "bert.embeddings.LayerNorm.weight                              (768,)\n",
      "bert.embeddings.LayerNorm.bias                                (768,)\n",
      "\n",
      "Transformers\n",
      "\n",
      "bert.encoder.layer.0.attention.self.query.weight          (768, 768)\n",
      "bert.encoder.layer.0.attention.self.query.bias                (768,)\n",
      "bert.encoder.layer.0.attention.self.key.weight            (768, 768)\n",
      "bert.encoder.layer.0.attention.self.key.bias                  (768,)\n",
      "bert.encoder.layer.0.attention.self.value.weight          (768, 768)\n",
      "bert.encoder.layer.0.attention.self.value.bias                (768,)\n",
      "bert.encoder.layer.0.attention.output.dense.weight        (768, 768)\n",
      "bert.encoder.layer.0.attention.output.dense.bias              (768,)\n",
      "bert.encoder.layer.0.attention.output.LayerNorm.weight        (768,)\n",
      "bert.encoder.layer.0.attention.output.LayerNorm.bias          (768,)\n",
      "bert.encoder.layer.0.intermediate.dense.weight           (3072, 768)\n",
      "bert.encoder.layer.0.intermediate.dense.bias                 (3072,)\n",
      "bert.encoder.layer.0.output.dense.weight                 (768, 3072)\n",
      "bert.encoder.layer.0.output.dense.bias                        (768,)\n",
      "bert.encoder.layer.0.output.LayerNorm.weight                  (768,)\n",
      "bert.encoder.layer.0.output.LayerNorm.bias                    (768,)\n",
      "\n",
      "Output Layer\n",
      "\n",
      "bert.pooler.dense.weight                                  (768, 768)\n",
      "bert.pooler.dense.bias                                        (768,)\n",
      "classifier.weight                                           (2, 768)\n",
      "classifier.bias                                                 (2,)\n"
     ]
    }
   ],
   "source": [
    "\n",
    "params = list(model.named_parameters())\n",
    "\n",
    "print('{:} parameters.\\n'.format(len(params)))\n",
    "\n",
    "print('Embedding Layer\\n')\n",
    "for p in params[0:5]:\n",
    "    print(\"{:<55} {:>12}\".format(p[0], str(tuple(p[1].size()))))\n",
    "\n",
    "print('\\nTransformers\\n')\n",
    "for p in params[5:21]:\n",
    "    print(\"{:<55} {:>12}\".format(p[0], str(tuple(p[1].size()))))\n",
    "\n",
    "print('\\nOutput Layer\\n')\n",
    "for p in params[-4:]:\n",
    "    print(\"{:<55} {:>12}\".format(p[0], str(tuple(p[1].size()))))"
   ]
  },
  {
   "cell_type": "code",
   "execution_count": 30,
   "metadata": {},
   "outputs": [],
   "source": []
  },
  {
   "cell_type": "markdown",
   "metadata": {},
   "source": []
  },
  {
   "cell_type": "code",
   "execution_count": 31,
   "metadata": {},
   "outputs": [],
   "source": []
  },
  {
   "cell_type": "code",
   "execution_count": 32,
   "metadata": {},
   "outputs": [],
   "source": [
    "def flat_accuracy(preds, labels):\n",
    "    pred_flat = np.argmax(preds, axis=1).flatten()\n",
    "    labels_flat = labels.flatten()\n",
    "    return np.sum(pred_flat == labels_flat) / len(labels_flat)"
   ]
  },
  {
   "cell_type": "code",
   "execution_count": 33,
   "metadata": {},
   "outputs": [],
   "source": [
    "def format_time(elapsed):\n",
    "    elapsed_rounded = int(round((elapsed)))\n",
    "    return str(datetime.timedelta(seconds=elapsed_rounded))"
   ]
  },
  {
   "cell_type": "markdown",
   "metadata": {},
   "source": [
    "### Training loop"
   ]
  },
  {
   "cell_type": "code",
   "execution_count": 34,
   "metadata": {},
   "outputs": [
    {
     "name": "stdout",
     "output_type": "stream",
     "text": [
      "\n",
      "======== Epoch 1 / 3 ========\n",
      "Training...\n",
      "  Batch    40  of  6,188.    Elapsed: 0:00:14.\n",
      "  Batch    80  of  6,188.    Elapsed: 0:00:27.\n",
      "  Batch   120  of  6,188.    Elapsed: 0:00:43.\n",
      "  Batch   160  of  6,188.    Elapsed: 0:01:00.\n",
      "  Batch   200  of  6,188.    Elapsed: 0:01:17.\n",
      "  Batch   240  of  6,188.    Elapsed: 0:01:33.\n",
      "  Batch   280  of  6,188.    Elapsed: 0:01:49.\n",
      "  Batch   320  of  6,188.    Elapsed: 0:02:06.\n",
      "  Batch   360  of  6,188.    Elapsed: 0:02:22.\n",
      "  Batch   400  of  6,188.    Elapsed: 0:02:38.\n",
      "  Batch   440  of  6,188.    Elapsed: 0:02:55.\n",
      "  Batch   480  of  6,188.    Elapsed: 0:03:12.\n",
      "  Batch   520  of  6,188.    Elapsed: 0:03:28.\n",
      "  Batch   560  of  6,188.    Elapsed: 0:03:45.\n",
      "  Batch   600  of  6,188.    Elapsed: 0:04:01.\n",
      "  Batch   640  of  6,188.    Elapsed: 0:04:18.\n",
      "  Batch   680  of  6,188.    Elapsed: 0:04:34.\n",
      "  Batch   720  of  6,188.    Elapsed: 0:04:51.\n",
      "  Batch   760  of  6,188.    Elapsed: 0:05:07.\n",
      "  Batch   800  of  6,188.    Elapsed: 0:05:24.\n",
      "  Batch   840  of  6,188.    Elapsed: 0:05:42.\n",
      "  Batch   880  of  6,188.    Elapsed: 0:05:58.\n",
      "  Batch   920  of  6,188.    Elapsed: 0:06:15.\n",
      "  Batch   960  of  6,188.    Elapsed: 0:06:32.\n",
      "  Batch 1,000  of  6,188.    Elapsed: 0:06:49.\n",
      "  Batch 1,040  of  6,188.    Elapsed: 0:07:05.\n",
      "  Batch 1,080  of  6,188.    Elapsed: 0:07:23.\n",
      "  Batch 1,120  of  6,188.    Elapsed: 0:07:39.\n",
      "  Batch 1,160  of  6,188.    Elapsed: 0:07:56.\n",
      "  Batch 1,200  of  6,188.    Elapsed: 0:08:12.\n",
      "  Batch 1,240  of  6,188.    Elapsed: 0:08:29.\n",
      "  Batch 1,280  of  6,188.    Elapsed: 0:08:46.\n",
      "  Batch 1,320  of  6,188.    Elapsed: 0:09:02.\n",
      "  Batch 1,360  of  6,188.    Elapsed: 0:09:19.\n",
      "  Batch 1,400  of  6,188.    Elapsed: 0:09:35.\n",
      "  Batch 1,440  of  6,188.    Elapsed: 0:09:51.\n",
      "  Batch 1,480  of  6,188.    Elapsed: 0:10:08.\n",
      "  Batch 1,520  of  6,188.    Elapsed: 0:10:25.\n",
      "  Batch 1,560  of  6,188.    Elapsed: 0:10:41.\n",
      "  Batch 1,600  of  6,188.    Elapsed: 0:10:58.\n",
      "  Batch 1,640  of  6,188.    Elapsed: 0:11:14.\n",
      "  Batch 1,680  of  6,188.    Elapsed: 0:11:31.\n",
      "  Batch 1,720  of  6,188.    Elapsed: 0:11:48.\n",
      "  Batch 1,760  of  6,188.    Elapsed: 0:12:04.\n",
      "  Batch 1,800  of  6,188.    Elapsed: 0:12:21.\n",
      "  Batch 1,840  of  6,188.    Elapsed: 0:12:37.\n",
      "  Batch 1,880  of  6,188.    Elapsed: 0:12:54.\n",
      "  Batch 1,920  of  6,188.    Elapsed: 0:13:11.\n",
      "  Batch 1,960  of  6,188.    Elapsed: 0:13:27.\n",
      "  Batch 2,000  of  6,188.    Elapsed: 0:13:44.\n",
      "  Batch 2,040  of  6,188.    Elapsed: 0:14:00.\n",
      "  Batch 2,080  of  6,188.    Elapsed: 0:14:17.\n",
      "  Batch 2,120  of  6,188.    Elapsed: 0:14:34.\n",
      "  Batch 2,160  of  6,188.    Elapsed: 0:14:50.\n",
      "  Batch 2,200  of  6,188.    Elapsed: 0:15:06.\n",
      "  Batch 2,240  of  6,188.    Elapsed: 0:15:23.\n",
      "  Batch 2,280  of  6,188.    Elapsed: 0:15:39.\n",
      "  Batch 2,320  of  6,188.    Elapsed: 0:15:55.\n",
      "  Batch 2,360  of  6,188.    Elapsed: 0:16:11.\n",
      "  Batch 2,400  of  6,188.    Elapsed: 0:16:27.\n",
      "  Batch 2,440  of  6,188.    Elapsed: 0:16:44.\n",
      "  Batch 2,480  of  6,188.    Elapsed: 0:17:00.\n",
      "  Batch 2,520  of  6,188.    Elapsed: 0:17:16.\n",
      "  Batch 2,560  of  6,188.    Elapsed: 0:17:32.\n",
      "  Batch 2,600  of  6,188.    Elapsed: 0:17:48.\n",
      "  Batch 2,640  of  6,188.    Elapsed: 0:18:05.\n",
      "  Batch 2,680  of  6,188.    Elapsed: 0:18:21.\n",
      "  Batch 2,720  of  6,188.    Elapsed: 0:18:38.\n",
      "  Batch 2,760  of  6,188.    Elapsed: 0:18:55.\n",
      "  Batch 2,800  of  6,188.    Elapsed: 0:19:11.\n",
      "  Batch 2,840  of  6,188.    Elapsed: 0:19:28.\n",
      "  Batch 2,880  of  6,188.    Elapsed: 0:19:45.\n",
      "  Batch 2,920  of  6,188.    Elapsed: 0:20:02.\n",
      "  Batch 2,960  of  6,188.    Elapsed: 0:20:18.\n",
      "  Batch 3,000  of  6,188.    Elapsed: 0:20:35.\n",
      "  Batch 3,040  of  6,188.    Elapsed: 0:20:52.\n",
      "  Batch 3,080  of  6,188.    Elapsed: 0:21:09.\n",
      "  Batch 3,120  of  6,188.    Elapsed: 0:21:25.\n",
      "  Batch 3,160  of  6,188.    Elapsed: 0:21:42.\n",
      "  Batch 3,200  of  6,188.    Elapsed: 0:21:58.\n",
      "  Batch 3,240  of  6,188.    Elapsed: 0:22:15.\n",
      "  Batch 3,280  of  6,188.    Elapsed: 0:22:31.\n",
      "  Batch 3,320  of  6,188.    Elapsed: 0:22:47.\n",
      "  Batch 3,360  of  6,188.    Elapsed: 0:23:04.\n",
      "  Batch 3,400  of  6,188.    Elapsed: 0:23:20.\n",
      "  Batch 3,440  of  6,188.    Elapsed: 0:23:36.\n",
      "  Batch 3,480  of  6,188.    Elapsed: 0:23:53.\n",
      "  Batch 3,520  of  6,188.    Elapsed: 0:24:09.\n",
      "  Batch 3,560  of  6,188.    Elapsed: 0:24:26.\n",
      "  Batch 3,600  of  6,188.    Elapsed: 0:24:42.\n",
      "  Batch 3,640  of  6,188.    Elapsed: 0:24:59.\n",
      "  Batch 3,680  of  6,188.    Elapsed: 0:25:16.\n",
      "  Batch 3,720  of  6,188.    Elapsed: 0:25:34.\n",
      "  Batch 3,760  of  6,188.    Elapsed: 0:25:51.\n",
      "  Batch 3,800  of  6,188.    Elapsed: 0:26:09.\n",
      "  Batch 3,840  of  6,188.    Elapsed: 0:26:26.\n",
      "  Batch 3,880  of  6,188.    Elapsed: 0:26:43.\n",
      "  Batch 3,920  of  6,188.    Elapsed: 0:27:00.\n",
      "  Batch 3,960  of  6,188.    Elapsed: 0:27:17.\n",
      "  Batch 4,000  of  6,188.    Elapsed: 0:27:34.\n",
      "  Batch 4,040  of  6,188.    Elapsed: 0:27:50.\n",
      "  Batch 4,080  of  6,188.    Elapsed: 0:28:07.\n",
      "  Batch 4,120  of  6,188.    Elapsed: 0:28:24.\n",
      "  Batch 4,160  of  6,188.    Elapsed: 0:28:40.\n",
      "  Batch 4,200  of  6,188.    Elapsed: 0:28:56.\n",
      "  Batch 4,240  of  6,188.    Elapsed: 0:29:12.\n",
      "  Batch 4,280  of  6,188.    Elapsed: 0:29:29.\n",
      "  Batch 4,320  of  6,188.    Elapsed: 0:29:45.\n",
      "  Batch 4,360  of  6,188.    Elapsed: 0:30:03.\n",
      "  Batch 4,400  of  6,188.    Elapsed: 0:30:20.\n",
      "  Batch 4,440  of  6,188.    Elapsed: 0:30:37.\n",
      "  Batch 4,480  of  6,188.    Elapsed: 0:30:54.\n",
      "  Batch 4,520  of  6,188.    Elapsed: 0:31:11.\n",
      "  Batch 4,560  of  6,188.    Elapsed: 0:31:29.\n",
      "  Batch 4,600  of  6,188.    Elapsed: 0:31:45.\n",
      "  Batch 4,640  of  6,188.    Elapsed: 0:32:02.\n",
      "  Batch 4,680  of  6,188.    Elapsed: 0:32:20.\n",
      "  Batch 4,720  of  6,188.    Elapsed: 0:32:37.\n",
      "  Batch 4,760  of  6,188.    Elapsed: 0:32:55.\n",
      "  Batch 4,800  of  6,188.    Elapsed: 0:33:12.\n",
      "  Batch 4,840  of  6,188.    Elapsed: 0:33:29.\n",
      "  Batch 4,880  of  6,188.    Elapsed: 0:33:46.\n",
      "  Batch 4,920  of  6,188.    Elapsed: 0:34:03.\n",
      "  Batch 4,960  of  6,188.    Elapsed: 0:34:21.\n",
      "  Batch 5,000  of  6,188.    Elapsed: 0:34:38.\n",
      "  Batch 5,040  of  6,188.    Elapsed: 0:34:54.\n",
      "  Batch 5,080  of  6,188.    Elapsed: 0:35:11.\n",
      "  Batch 5,120  of  6,188.    Elapsed: 0:35:28.\n",
      "  Batch 5,160  of  6,188.    Elapsed: 0:35:45.\n",
      "  Batch 5,200  of  6,188.    Elapsed: 0:36:02.\n",
      "  Batch 5,240  of  6,188.    Elapsed: 0:36:18.\n",
      "  Batch 5,280  of  6,188.    Elapsed: 0:36:35.\n",
      "  Batch 5,320  of  6,188.    Elapsed: 0:36:51.\n",
      "  Batch 5,360  of  6,188.    Elapsed: 0:37:07.\n",
      "  Batch 5,400  of  6,188.    Elapsed: 0:37:23.\n",
      "  Batch 5,440  of  6,188.    Elapsed: 0:37:39.\n",
      "  Batch 5,480  of  6,188.    Elapsed: 0:37:56.\n",
      "  Batch 5,520  of  6,188.    Elapsed: 0:38:12.\n",
      "  Batch 5,560  of  6,188.    Elapsed: 0:38:29.\n",
      "  Batch 5,600  of  6,188.    Elapsed: 0:38:45.\n",
      "  Batch 5,640  of  6,188.    Elapsed: 0:39:02.\n",
      "  Batch 5,680  of  6,188.    Elapsed: 0:39:19.\n",
      "  Batch 5,720  of  6,188.    Elapsed: 0:39:35.\n",
      "  Batch 5,760  of  6,188.    Elapsed: 0:39:52.\n",
      "  Batch 5,800  of  6,188.    Elapsed: 0:40:09.\n",
      "  Batch 5,840  of  6,188.    Elapsed: 0:40:25.\n",
      "  Batch 5,880  of  6,188.    Elapsed: 0:40:42.\n",
      "  Batch 5,920  of  6,188.    Elapsed: 0:40:59.\n",
      "  Batch 5,960  of  6,188.    Elapsed: 0:41:16.\n",
      "  Batch 6,000  of  6,188.    Elapsed: 0:41:32.\n",
      "  Batch 6,040  of  6,188.    Elapsed: 0:41:49.\n",
      "  Batch 6,080  of  6,188.    Elapsed: 0:42:05.\n",
      "  Batch 6,120  of  6,188.    Elapsed: 0:42:22.\n",
      "  Batch 6,160  of  6,188.    Elapsed: 0:42:38.\n",
      "\n",
      "  Average training loss: 0.25\n",
      "  Training epoch took: 0:42:49\n",
      "Running Validation...\n",
      "  Accuracy: 0.93\n",
      "  Validation took: 0:01:30\n",
      "\n",
      "======== Epoch 2 / 3 ========\n",
      "Training...\n",
      "  Batch    40  of  6,188.    Elapsed: 0:00:16.\n",
      "  Batch    80  of  6,188.    Elapsed: 0:00:32.\n",
      "  Batch   120  of  6,188.    Elapsed: 0:00:49.\n",
      "  Batch   160  of  6,188.    Elapsed: 0:01:05.\n",
      "  Batch   200  of  6,188.    Elapsed: 0:01:22.\n",
      "  Batch   240  of  6,188.    Elapsed: 0:01:38.\n",
      "  Batch   280  of  6,188.    Elapsed: 0:01:55.\n",
      "  Batch   320  of  6,188.    Elapsed: 0:02:12.\n",
      "  Batch   360  of  6,188.    Elapsed: 0:02:29.\n",
      "  Batch   400  of  6,188.    Elapsed: 0:02:46.\n",
      "  Batch   440  of  6,188.    Elapsed: 0:03:02.\n",
      "  Batch   480  of  6,188.    Elapsed: 0:03:19.\n",
      "  Batch   520  of  6,188.    Elapsed: 0:03:36.\n",
      "  Batch   560  of  6,188.    Elapsed: 0:03:53.\n",
      "  Batch   600  of  6,188.    Elapsed: 0:04:10.\n",
      "  Batch   640  of  6,188.    Elapsed: 0:04:26.\n",
      "  Batch   680  of  6,188.    Elapsed: 0:04:43.\n",
      "  Batch   720  of  6,188.    Elapsed: 0:04:59.\n",
      "  Batch   760  of  6,188.    Elapsed: 0:05:15.\n",
      "  Batch   800  of  6,188.    Elapsed: 0:05:31.\n",
      "  Batch   840  of  6,188.    Elapsed: 0:05:48.\n",
      "  Batch   880  of  6,188.    Elapsed: 0:06:04.\n",
      "  Batch   920  of  6,188.    Elapsed: 0:06:20.\n",
      "  Batch   960  of  6,188.    Elapsed: 0:06:36.\n",
      "  Batch 1,000  of  6,188.    Elapsed: 0:06:53.\n",
      "  Batch 1,040  of  6,188.    Elapsed: 0:07:09.\n",
      "  Batch 1,080  of  6,188.    Elapsed: 0:07:26.\n",
      "  Batch 1,120  of  6,188.    Elapsed: 0:07:42.\n",
      "  Batch 1,160  of  6,188.    Elapsed: 0:07:59.\n",
      "  Batch 1,200  of  6,188.    Elapsed: 0:08:15.\n",
      "  Batch 1,240  of  6,188.    Elapsed: 0:08:32.\n",
      "  Batch 1,280  of  6,188.    Elapsed: 0:08:49.\n",
      "  Batch 1,320  of  6,188.    Elapsed: 0:09:05.\n",
      "  Batch 1,360  of  6,188.    Elapsed: 0:09:22.\n",
      "  Batch 1,400  of  6,188.    Elapsed: 0:09:39.\n",
      "  Batch 1,440  of  6,188.    Elapsed: 0:09:56.\n",
      "  Batch 1,480  of  6,188.    Elapsed: 0:10:12.\n",
      "  Batch 1,520  of  6,188.    Elapsed: 0:10:29.\n",
      "  Batch 1,560  of  6,188.    Elapsed: 0:10:46.\n",
      "  Batch 1,600  of  6,188.    Elapsed: 0:11:03.\n",
      "  Batch 1,640  of  6,188.    Elapsed: 0:11:19.\n",
      "  Batch 1,680  of  6,188.    Elapsed: 0:11:36.\n",
      "  Batch 1,720  of  6,188.    Elapsed: 0:11:52.\n",
      "  Batch 1,760  of  6,188.    Elapsed: 0:12:08.\n",
      "  Batch 1,800  of  6,188.    Elapsed: 0:12:24.\n",
      "  Batch 1,840  of  6,188.    Elapsed: 0:12:41.\n",
      "  Batch 1,880  of  6,188.    Elapsed: 0:12:57.\n",
      "  Batch 1,920  of  6,188.    Elapsed: 0:13:13.\n",
      "  Batch 1,960  of  6,188.    Elapsed: 0:13:29.\n",
      "  Batch 2,000  of  6,188.    Elapsed: 0:13:45.\n",
      "  Batch 2,040  of  6,188.    Elapsed: 0:14:02.\n",
      "  Batch 2,080  of  6,188.    Elapsed: 0:14:18.\n",
      "  Batch 2,120  of  6,188.    Elapsed: 0:14:35.\n",
      "  Batch 2,160  of  6,188.    Elapsed: 0:14:52.\n",
      "  Batch 2,200  of  6,188.    Elapsed: 0:15:10.\n",
      "  Batch 2,240  of  6,188.    Elapsed: 0:15:27.\n",
      "  Batch 2,280  of  6,188.    Elapsed: 0:15:44.\n",
      "  Batch 2,320  of  6,188.    Elapsed: 0:16:01.\n",
      "  Batch 2,360  of  6,188.    Elapsed: 0:16:18.\n",
      "  Batch 2,400  of  6,188.    Elapsed: 0:16:34.\n",
      "  Batch 2,440  of  6,188.    Elapsed: 0:16:51.\n",
      "  Batch 2,480  of  6,188.    Elapsed: 0:17:08.\n",
      "  Batch 2,520  of  6,188.    Elapsed: 0:17:24.\n",
      "  Batch 2,560  of  6,188.    Elapsed: 0:17:41.\n",
      "  Batch 2,600  of  6,188.    Elapsed: 0:17:58.\n",
      "  Batch 2,640  of  6,188.    Elapsed: 0:18:14.\n",
      "  Batch 2,680  of  6,188.    Elapsed: 0:18:30.\n",
      "  Batch 2,720  of  6,188.    Elapsed: 0:18:46.\n",
      "  Batch 2,760  of  6,188.    Elapsed: 0:19:03.\n",
      "  Batch 2,800  of  6,188.    Elapsed: 0:19:19.\n",
      "  Batch 2,840  of  6,188.    Elapsed: 0:19:35.\n",
      "  Batch 2,880  of  6,188.    Elapsed: 0:19:51.\n",
      "  Batch 2,920  of  6,188.    Elapsed: 0:20:07.\n",
      "  Batch 2,960  of  6,188.    Elapsed: 0:20:24.\n",
      "  Batch 3,000  of  6,188.    Elapsed: 0:20:40.\n",
      "  Batch 3,040  of  6,188.    Elapsed: 0:20:56.\n",
      "  Batch 3,080  of  6,188.    Elapsed: 0:21:12.\n",
      "  Batch 3,120  of  6,188.    Elapsed: 0:21:29.\n",
      "  Batch 3,160  of  6,188.    Elapsed: 0:21:45.\n",
      "  Batch 3,200  of  6,188.    Elapsed: 0:22:02.\n",
      "  Batch 3,240  of  6,188.    Elapsed: 0:22:19.\n",
      "  Batch 3,280  of  6,188.    Elapsed: 0:22:36.\n",
      "  Batch 3,320  of  6,188.    Elapsed: 0:22:52.\n",
      "  Batch 3,360  of  6,188.    Elapsed: 0:23:09.\n",
      "  Batch 3,400  of  6,188.    Elapsed: 0:23:25.\n",
      "  Batch 3,440  of  6,188.    Elapsed: 0:23:42.\n",
      "  Batch 3,480  of  6,188.    Elapsed: 0:23:59.\n",
      "  Batch 3,520  of  6,188.    Elapsed: 0:24:16.\n",
      "  Batch 3,560  of  6,188.    Elapsed: 0:24:33.\n",
      "  Batch 3,600  of  6,188.    Elapsed: 0:24:50.\n",
      "  Batch 3,640  of  6,188.    Elapsed: 0:25:07.\n",
      "  Batch 3,680  of  6,188.    Elapsed: 0:25:23.\n",
      "  Batch 3,720  of  6,188.    Elapsed: 0:25:40.\n",
      "  Batch 3,760  of  6,188.    Elapsed: 0:25:57.\n",
      "  Batch 3,800  of  6,188.    Elapsed: 0:26:15.\n",
      "  Batch 3,840  of  6,188.    Elapsed: 0:26:32.\n",
      "  Batch 3,880  of  6,188.    Elapsed: 0:26:48.\n",
      "  Batch 3,920  of  6,188.    Elapsed: 0:27:05.\n",
      "  Batch 3,960  of  6,188.    Elapsed: 0:27:23.\n",
      "  Batch 4,000  of  6,188.    Elapsed: 0:27:41.\n",
      "  Batch 4,040  of  6,188.    Elapsed: 0:27:59.\n",
      "  Batch 4,080  of  6,188.    Elapsed: 0:28:16.\n",
      "  Batch 4,120  of  6,188.    Elapsed: 0:28:34.\n",
      "  Batch 4,160  of  6,188.    Elapsed: 0:28:51.\n",
      "  Batch 4,200  of  6,188.    Elapsed: 0:29:09.\n",
      "  Batch 4,240  of  6,188.    Elapsed: 0:29:27.\n",
      "  Batch 4,280  of  6,188.    Elapsed: 0:29:44.\n",
      "  Batch 4,320  of  6,188.    Elapsed: 0:30:02.\n",
      "  Batch 4,360  of  6,188.    Elapsed: 0:30:20.\n",
      "  Batch 4,400  of  6,188.    Elapsed: 0:30:38.\n",
      "  Batch 4,440  of  6,188.    Elapsed: 0:30:56.\n",
      "  Batch 4,480  of  6,188.    Elapsed: 0:31:14.\n",
      "  Batch 4,520  of  6,188.    Elapsed: 0:31:32.\n",
      "  Batch 4,560  of  6,188.    Elapsed: 0:31:50.\n",
      "  Batch 4,600  of  6,188.    Elapsed: 0:32:07.\n",
      "  Batch 4,640  of  6,188.    Elapsed: 0:32:25.\n",
      "  Batch 4,680  of  6,188.    Elapsed: 0:32:42.\n",
      "  Batch 4,720  of  6,188.    Elapsed: 0:32:59.\n",
      "  Batch 4,760  of  6,188.    Elapsed: 0:33:17.\n",
      "  Batch 4,800  of  6,188.    Elapsed: 0:33:35.\n",
      "  Batch 4,840  of  6,188.    Elapsed: 0:33:53.\n",
      "  Batch 4,880  of  6,188.    Elapsed: 0:34:10.\n",
      "  Batch 4,920  of  6,188.    Elapsed: 0:34:29.\n",
      "  Batch 4,960  of  6,188.    Elapsed: 0:34:46.\n",
      "  Batch 5,000  of  6,188.    Elapsed: 0:35:04.\n",
      "  Batch 5,040  of  6,188.    Elapsed: 0:35:22.\n",
      "  Batch 5,080  of  6,188.    Elapsed: 0:35:40.\n",
      "  Batch 5,120  of  6,188.    Elapsed: 0:35:57.\n",
      "  Batch 5,160  of  6,188.    Elapsed: 0:36:16.\n",
      "  Batch 5,200  of  6,188.    Elapsed: 0:36:34.\n",
      "  Batch 5,240  of  6,188.    Elapsed: 0:36:51.\n",
      "  Batch 5,280  of  6,188.    Elapsed: 0:37:10.\n",
      "  Batch 5,320  of  6,188.    Elapsed: 0:37:28.\n",
      "  Batch 5,360  of  6,188.    Elapsed: 0:37:46.\n",
      "  Batch 5,400  of  6,188.    Elapsed: 0:38:03.\n",
      "  Batch 5,440  of  6,188.    Elapsed: 0:38:20.\n",
      "  Batch 5,480  of  6,188.    Elapsed: 0:38:38.\n",
      "  Batch 5,520  of  6,188.    Elapsed: 0:38:55.\n",
      "  Batch 5,560  of  6,188.    Elapsed: 0:39:12.\n",
      "  Batch 5,600  of  6,188.    Elapsed: 0:39:30.\n",
      "  Batch 5,640  of  6,188.    Elapsed: 0:39:47.\n",
      "  Batch 5,680  of  6,188.    Elapsed: 0:40:04.\n",
      "  Batch 5,720  of  6,188.    Elapsed: 0:40:21.\n",
      "  Batch 5,760  of  6,188.    Elapsed: 0:40:38.\n",
      "  Batch 5,800  of  6,188.    Elapsed: 0:40:55.\n",
      "  Batch 5,840  of  6,188.    Elapsed: 0:41:12.\n",
      "  Batch 5,880  of  6,188.    Elapsed: 0:41:29.\n",
      "  Batch 5,920  of  6,188.    Elapsed: 0:41:45.\n",
      "  Batch 5,960  of  6,188.    Elapsed: 0:42:03.\n",
      "  Batch 6,000  of  6,188.    Elapsed: 0:42:20.\n",
      "  Batch 6,040  of  6,188.    Elapsed: 0:42:38.\n",
      "  Batch 6,080  of  6,188.    Elapsed: 0:42:55.\n",
      "  Batch 6,120  of  6,188.    Elapsed: 0:43:12.\n",
      "  Batch 6,160  of  6,188.    Elapsed: 0:43:29.\n",
      "\n",
      "  Average training loss: 0.18\n",
      "  Training epoch took: 0:43:41\n",
      "Running Validation...\n",
      "  Accuracy: 0.94\n",
      "  Validation took: 0:01:32\n",
      "\n",
      "======== Epoch 3 / 3 ========\n",
      "Training...\n",
      "  Batch    40  of  6,188.    Elapsed: 0:00:17.\n",
      "  Batch    80  of  6,188.    Elapsed: 0:00:34.\n",
      "  Batch   120  of  6,188.    Elapsed: 0:00:50.\n",
      "  Batch   160  of  6,188.    Elapsed: 0:01:08.\n",
      "  Batch   200  of  6,188.    Elapsed: 0:01:25.\n",
      "  Batch   240  of  6,188.    Elapsed: 0:01:42.\n",
      "  Batch   280  of  6,188.    Elapsed: 0:01:59.\n",
      "  Batch   320  of  6,188.    Elapsed: 0:02:16.\n",
      "  Batch   360  of  6,188.    Elapsed: 0:02:33.\n",
      "  Batch   400  of  6,188.    Elapsed: 0:02:50.\n",
      "  Batch   440  of  6,188.    Elapsed: 0:03:06.\n",
      "  Batch   480  of  6,188.    Elapsed: 0:03:23.\n",
      "  Batch   520  of  6,188.    Elapsed: 0:03:40.\n",
      "  Batch   560  of  6,188.    Elapsed: 0:03:57.\n",
      "  Batch   600  of  6,188.    Elapsed: 0:04:13.\n",
      "  Batch   640  of  6,188.    Elapsed: 0:04:30.\n",
      "  Batch   680  of  6,188.    Elapsed: 0:04:47.\n",
      "  Batch   720  of  6,188.    Elapsed: 0:05:03.\n",
      "  Batch   760  of  6,188.    Elapsed: 0:05:21.\n",
      "  Batch   800  of  6,188.    Elapsed: 0:05:37.\n",
      "  Batch   840  of  6,188.    Elapsed: 0:05:55.\n",
      "  Batch   880  of  6,188.    Elapsed: 0:06:12.\n",
      "  Batch   920  of  6,188.    Elapsed: 0:06:29.\n",
      "  Batch   960  of  6,188.    Elapsed: 0:06:47.\n",
      "  Batch 1,000  of  6,188.    Elapsed: 0:07:05.\n",
      "  Batch 1,040  of  6,188.    Elapsed: 0:07:23.\n",
      "  Batch 1,080  of  6,188.    Elapsed: 0:07:41.\n",
      "  Batch 1,120  of  6,188.    Elapsed: 0:07:59.\n",
      "  Batch 1,160  of  6,188.    Elapsed: 0:08:17.\n",
      "  Batch 1,200  of  6,188.    Elapsed: 0:08:35.\n",
      "  Batch 1,240  of  6,188.    Elapsed: 0:08:52.\n",
      "  Batch 1,280  of  6,188.    Elapsed: 0:09:09.\n",
      "  Batch 1,320  of  6,188.    Elapsed: 0:09:27.\n",
      "  Batch 1,360  of  6,188.    Elapsed: 0:09:44.\n",
      "  Batch 1,400  of  6,188.    Elapsed: 0:10:01.\n",
      "  Batch 1,440  of  6,188.    Elapsed: 0:10:18.\n",
      "  Batch 1,480  of  6,188.    Elapsed: 0:10:36.\n",
      "  Batch 1,520  of  6,188.    Elapsed: 0:10:54.\n",
      "  Batch 1,560  of  6,188.    Elapsed: 0:11:11.\n",
      "  Batch 1,600  of  6,188.    Elapsed: 0:11:29.\n",
      "  Batch 1,640  of  6,188.    Elapsed: 0:11:47.\n",
      "  Batch 1,680  of  6,188.    Elapsed: 0:12:05.\n",
      "  Batch 1,720  of  6,188.    Elapsed: 0:12:23.\n",
      "  Batch 1,760  of  6,188.    Elapsed: 0:12:40.\n",
      "  Batch 1,800  of  6,188.    Elapsed: 0:12:57.\n",
      "  Batch 1,840  of  6,188.    Elapsed: 0:13:14.\n",
      "  Batch 1,880  of  6,188.    Elapsed: 0:13:31.\n",
      "  Batch 1,920  of  6,188.    Elapsed: 0:13:48.\n",
      "  Batch 1,960  of  6,188.    Elapsed: 0:14:06.\n",
      "  Batch 2,000  of  6,188.    Elapsed: 0:14:23.\n",
      "  Batch 2,040  of  6,188.    Elapsed: 0:14:40.\n",
      "  Batch 2,080  of  6,188.    Elapsed: 0:14:57.\n",
      "  Batch 2,120  of  6,188.    Elapsed: 0:15:14.\n",
      "  Batch 2,160  of  6,188.    Elapsed: 0:15:31.\n",
      "  Batch 2,200  of  6,188.    Elapsed: 0:15:47.\n",
      "  Batch 2,240  of  6,188.    Elapsed: 0:16:04.\n",
      "  Batch 2,280  of  6,188.    Elapsed: 0:16:21.\n",
      "  Batch 2,320  of  6,188.    Elapsed: 0:16:37.\n",
      "  Batch 2,360  of  6,188.    Elapsed: 0:16:55.\n",
      "  Batch 2,400  of  6,188.    Elapsed: 0:17:11.\n",
      "  Batch 2,440  of  6,188.    Elapsed: 0:17:28.\n",
      "  Batch 2,480  of  6,188.    Elapsed: 0:17:45.\n",
      "  Batch 2,520  of  6,188.    Elapsed: 0:18:03.\n",
      "  Batch 2,560  of  6,188.    Elapsed: 0:18:20.\n",
      "  Batch 2,600  of  6,188.    Elapsed: 0:18:37.\n",
      "  Batch 2,640  of  6,188.    Elapsed: 0:18:54.\n",
      "  Batch 2,680  of  6,188.    Elapsed: 0:19:11.\n",
      "  Batch 2,720  of  6,188.    Elapsed: 0:19:28.\n",
      "  Batch 2,760  of  6,188.    Elapsed: 0:19:45.\n",
      "  Batch 2,800  of  6,188.    Elapsed: 0:20:03.\n",
      "  Batch 2,840  of  6,188.    Elapsed: 0:20:20.\n",
      "  Batch 2,880  of  6,188.    Elapsed: 0:20:37.\n",
      "  Batch 2,920  of  6,188.    Elapsed: 0:20:53.\n",
      "  Batch 2,960  of  6,188.    Elapsed: 0:21:10.\n",
      "  Batch 3,000  of  6,188.    Elapsed: 0:21:27.\n",
      "  Batch 3,040  of  6,188.    Elapsed: 0:21:43.\n",
      "  Batch 3,080  of  6,188.    Elapsed: 0:22:00.\n",
      "  Batch 3,120  of  6,188.    Elapsed: 0:22:18.\n",
      "  Batch 3,160  of  6,188.    Elapsed: 0:22:34.\n",
      "  Batch 3,200  of  6,188.    Elapsed: 0:22:51.\n",
      "  Batch 3,240  of  6,188.    Elapsed: 0:23:08.\n",
      "  Batch 3,280  of  6,188.    Elapsed: 0:23:25.\n",
      "  Batch 3,320  of  6,188.    Elapsed: 0:23:42.\n",
      "  Batch 3,360  of  6,188.    Elapsed: 0:24:00.\n",
      "  Batch 3,400  of  6,188.    Elapsed: 0:24:17.\n",
      "  Batch 3,440  of  6,188.    Elapsed: 0:24:34.\n",
      "  Batch 3,480  of  6,188.    Elapsed: 0:24:51.\n",
      "  Batch 3,520  of  6,188.    Elapsed: 0:25:08.\n",
      "  Batch 3,560  of  6,188.    Elapsed: 0:25:25.\n",
      "  Batch 3,600  of  6,188.    Elapsed: 0:25:42.\n",
      "  Batch 3,640  of  6,188.    Elapsed: 0:25:59.\n",
      "  Batch 3,680  of  6,188.    Elapsed: 0:26:15.\n",
      "  Batch 3,720  of  6,188.    Elapsed: 0:26:32.\n",
      "  Batch 3,760  of  6,188.    Elapsed: 0:26:49.\n",
      "  Batch 3,800  of  6,188.    Elapsed: 0:27:05.\n",
      "  Batch 3,840  of  6,188.    Elapsed: 0:27:21.\n",
      "  Batch 3,880  of  6,188.    Elapsed: 0:27:38.\n",
      "  Batch 3,920  of  6,188.    Elapsed: 0:27:54.\n",
      "  Batch 3,960  of  6,188.    Elapsed: 0:28:10.\n",
      "  Batch 4,000  of  6,188.    Elapsed: 0:28:26.\n",
      "  Batch 4,040  of  6,188.    Elapsed: 0:28:42.\n",
      "  Batch 4,080  of  6,188.    Elapsed: 0:28:58.\n",
      "  Batch 4,120  of  6,188.    Elapsed: 0:29:15.\n",
      "  Batch 4,160  of  6,188.    Elapsed: 0:29:31.\n",
      "  Batch 4,200  of  6,188.    Elapsed: 0:29:47.\n",
      "  Batch 4,240  of  6,188.    Elapsed: 0:30:04.\n",
      "  Batch 4,280  of  6,188.    Elapsed: 0:30:20.\n",
      "  Batch 4,320  of  6,188.    Elapsed: 0:30:37.\n",
      "  Batch 4,360  of  6,188.    Elapsed: 0:30:53.\n",
      "  Batch 4,400  of  6,188.    Elapsed: 0:31:10.\n",
      "  Batch 4,440  of  6,188.    Elapsed: 0:31:27.\n",
      "  Batch 4,480  of  6,188.    Elapsed: 0:31:43.\n",
      "  Batch 4,520  of  6,188.    Elapsed: 0:32:00.\n",
      "  Batch 4,560  of  6,188.    Elapsed: 0:32:16.\n",
      "  Batch 4,600  of  6,188.    Elapsed: 0:32:33.\n",
      "  Batch 4,640  of  6,188.    Elapsed: 0:32:49.\n",
      "  Batch 4,680  of  6,188.    Elapsed: 0:33:06.\n",
      "  Batch 4,720  of  6,188.    Elapsed: 0:33:23.\n",
      "  Batch 4,760  of  6,188.    Elapsed: 0:33:39.\n",
      "  Batch 4,800  of  6,188.    Elapsed: 0:33:55.\n",
      "  Batch 4,840  of  6,188.    Elapsed: 0:34:12.\n",
      "  Batch 4,880  of  6,188.    Elapsed: 0:34:28.\n",
      "  Batch 4,920  of  6,188.    Elapsed: 0:34:44.\n",
      "  Batch 4,960  of  6,188.    Elapsed: 0:35:00.\n",
      "  Batch 5,000  of  6,188.    Elapsed: 0:35:17.\n",
      "  Batch 5,040  of  6,188.    Elapsed: 0:35:33.\n",
      "  Batch 5,080  of  6,188.    Elapsed: 0:35:49.\n",
      "  Batch 5,120  of  6,188.    Elapsed: 0:36:05.\n",
      "  Batch 5,160  of  6,188.    Elapsed: 0:36:21.\n",
      "  Batch 5,200  of  6,188.    Elapsed: 0:36:38.\n",
      "  Batch 5,240  of  6,188.    Elapsed: 0:36:54.\n",
      "  Batch 5,280  of  6,188.    Elapsed: 0:37:11.\n",
      "  Batch 5,320  of  6,188.    Elapsed: 0:37:28.\n",
      "  Batch 5,360  of  6,188.    Elapsed: 0:37:44.\n",
      "  Batch 5,400  of  6,188.    Elapsed: 0:38:01.\n",
      "  Batch 5,440  of  6,188.    Elapsed: 0:38:18.\n",
      "  Batch 5,480  of  6,188.    Elapsed: 0:38:34.\n",
      "  Batch 5,520  of  6,188.    Elapsed: 0:38:51.\n",
      "  Batch 5,560  of  6,188.    Elapsed: 0:39:08.\n",
      "  Batch 5,600  of  6,188.    Elapsed: 0:39:25.\n",
      "  Batch 5,640  of  6,188.    Elapsed: 0:39:41.\n",
      "  Batch 5,680  of  6,188.    Elapsed: 0:39:58.\n",
      "  Batch 5,720  of  6,188.    Elapsed: 0:40:15.\n",
      "  Batch 5,760  of  6,188.    Elapsed: 0:40:31.\n",
      "  Batch 5,800  of  6,188.    Elapsed: 0:40:48.\n",
      "  Batch 5,840  of  6,188.    Elapsed: 0:41:04.\n",
      "  Batch 5,880  of  6,188.    Elapsed: 0:41:21.\n",
      "  Batch 5,920  of  6,188.    Elapsed: 0:41:37.\n",
      "  Batch 5,960  of  6,188.    Elapsed: 0:41:53.\n",
      "  Batch 6,000  of  6,188.    Elapsed: 0:42:10.\n",
      "  Batch 6,040  of  6,188.    Elapsed: 0:42:26.\n",
      "  Batch 6,080  of  6,188.    Elapsed: 0:42:42.\n",
      "  Batch 6,120  of  6,188.    Elapsed: 0:42:59.\n",
      "  Batch 6,160  of  6,188.    Elapsed: 0:43:15.\n",
      "\n",
      "  Average training loss: 0.13\n",
      "  Training epoch took: 0:43:26\n",
      "Running Validation...\n",
      "  Accuracy: 0.94\n",
      "  Validation took: 0:01:31\n",
      "\n",
      "Training complete!\n"
     ]
    }
   ],
   "source": [
    "model.fit(data, labels, batch_size=32, epochs=10, validation_split=0.1)"
   ]
  },
  {
   "cell_type": "markdown",
   "metadata": {},
   "source": [
    "### Evaluate "
   ]
  },
  {
   "cell_type": "code",
   "execution_count": 35,
   "metadata": {},
   "outputs": [
    {
     "name": "stdout",
     "output_type": "stream",
     "text": [
      "models_dir ./models/\n"
     ]
    },
    {
     "data": {
      "text/plain": [
       "('./models/tokenizer_config.json',\n",
       " './models/special_tokens_map.json',\n",
       " './models/vocab.txt',\n",
       " './models/added_tokens.json')"
      ]
     },
     "execution_count": 35,
     "metadata": {},
     "output_type": "execute_result"
    }
   ],
   "source": [
    "import os\n",
    "\n",
    "models_dir = './models/'\n",
    "\n",
    "print(\"models_dir %s\" % models_dir)\n",
    "\n",
    "# save model, configuration and tokenizer using `save_pretrained()`.\n",
    "model_to_save = model.module if hasattr(model, 'module') else model\n",
    "model_to_save.save_pretrained(models_dir)\n",
    "tokenizer.save_pretrained(models_dir)\n",
    "\n",
    "# torch.save(args, os.path.join(output_dir, 'training_args.bin'))"
   ]
  },
  {
   "cell_type": "markdown",
   "metadata": {},
   "source": [
    "### Load saved model"
   ]
  },
  {
   "cell_type": "code",
   "execution_count": 36,
   "metadata": {},
   "outputs": [],
   "source": [
    "models_dir = './models/'\n",
    "model2 = BertForSequenceClassification.from_pretrained(models_dir)\n",
    "tokenizer2 = BertTokenizer.from_pretrained(models_dir)\n",
    "\n",
    "# set model to the GPU\n",
    "#model.to(device)\n"
   ]
  },
  {
   "cell_type": "code",
   "execution_count": 37,
   "metadata": {},
   "outputs": [
    {
     "data": {
      "text/html": [
       "<div>\n",
       "<style scoped>\n",
       "    .dataframe tbody tr th:only-of-type {\n",
       "        vertical-align: middle;\n",
       "    }\n",
       "\n",
       "    .dataframe tbody tr th {\n",
       "        vertical-align: top;\n",
       "    }\n",
       "\n",
       "    .dataframe thead th {\n",
       "        text-align: right;\n",
       "    }\n",
       "</style>\n",
       "<table border=\"1\" class=\"dataframe\">\n",
       "  <thead>\n",
       "    <tr style=\"text-align: right;\">\n",
       "      <th></th>\n",
       "      <th>text</th>\n",
       "      <th>label</th>\n",
       "    </tr>\n",
       "    <tr>\n",
       "      <th>id</th>\n",
       "      <th></th>\n",
       "      <th></th>\n",
       "    </tr>\n",
       "  </thead>\n",
       "  <tbody>\n",
       "    <tr>\n",
       "      <th>0</th>\n",
       "      <td>I get the odd feeling Klastri  the head of the ACLU of Hawaii  will step in and defend this scum...</td>\n",
       "      <td>?</td>\n",
       "    </tr>\n",
       "    <tr>\n",
       "      <th>1</th>\n",
       "      <td>I couldn't disagree more with this column; Canadians have moved on and don't care how primarily ...</td>\n",
       "      <td>?</td>\n",
       "    </tr>\n",
       "    <tr>\n",
       "      <th>2</th>\n",
       "      <td>Does the property owner have a vote in the  tax increase?  And maybe it's time to scale back the...</td>\n",
       "      <td>?</td>\n",
       "    </tr>\n",
       "  </tbody>\n",
       "</table>\n",
       "</div>"
      ],
      "text/plain": [
       "                                                                                                   text  \\\n",
       "id                                                                                                        \n",
       "0   I get the odd feeling Klastri  the head of the ACLU of Hawaii  will step in and defend this scum...   \n",
       "1   I couldn't disagree more with this column; Canadians have moved on and don't care how primarily ...   \n",
       "2   Does the property owner have a vote in the  tax increase?  And maybe it's time to scale back the...   \n",
       "\n",
       "   label  \n",
       "id        \n",
       "0      ?  \n",
       "1      ?  \n",
       "2      ?  "
      ]
     },
     "execution_count": 37,
     "metadata": {},
     "output_type": "execute_result"
    }
   ],
   "source": [
    "df_test = pd.read_csv(\"./test/test_2024.csv\", quoting=3, index_col=0)\n",
    "df_test.head(3)"
   ]
  },
  {
   "cell_type": "code",
   "execution_count": 38,
   "metadata": {},
   "outputs": [
    {
     "name": "stdout",
     "output_type": "stream",
     "text": [
      "<class 'pandas.core.frame.DataFrame'>\n",
      "Index: 12001 entries, 0 to 12000\n",
      "Data columns (total 2 columns):\n",
      " #   Column  Non-Null Count  Dtype \n",
      "---  ------  --------------  ----- \n",
      " 0   text    12001 non-null  object\n",
      " 1   label   12001 non-null  object\n",
      "dtypes: object(2)\n",
      "memory usage: 281.3+ KB\n"
     ]
    }
   ],
   "source": [
    "df_test.info()"
   ]
  },
  {
   "cell_type": "code",
   "execution_count": 39,
   "metadata": {},
   "outputs": [],
   "source": [
    "label2 = df_test['label'].values\n",
    "text2 = df_test['text'].values"
   ]
  },
  {
   "cell_type": "markdown",
   "metadata": {},
   "source": [
    "### Prepare test set for evaluation"
   ]
  },
  {
   "cell_type": "code",
   "execution_count": 40,
   "metadata": {},
   "outputs": [
    {
     "name": "stdout",
     "output_type": "stream",
     "text": [
      "cleaned len: 12001\n",
      "org len: 12001\n",
      "texts:\n",
      " get odd feeling klastri head aclu hawaii step defend scum freedom speech\n",
      "Tokenized Texts:\n",
      " [101, 2131, 5976, 3110, 1047, 8523, 18886, 2132, 9353, 7630, 7359, 3357, 6985, 8040, 2819, 4071, 4613, 102]\n",
      "\n",
      "Padding/truncating all sentences to 140 length\n",
      "Padding token: \"[PAD]\", ID: 0\n"
     ]
    }
   ],
   "source": [
    "# clean sentences\n",
    "text_clean2 = clean_numpy_texts(text2)\n",
    "print(\"cleaned len:\", len(text_clean2))\n",
    "print(\"org len:\", len(text2))\n",
    "\n",
    "# make token vectors\n",
    "token_vectors2 = tokenize_texts(text_clean2,tokenizer2)\n",
    "print(\"texts:\\n\", text_clean2[:][0])\n",
    "print(\"Tokenized Texts:\\n\", token_vectors2[0])\n",
    "\n",
    "# set max length\n",
    "MAX_LEN = 140\n",
    "\n",
    "print(f'\\nPadding/truncating all sentences to {MAX_LEN} length')\n",
    "print(f'Padding token: \"{tokenizer2.pad_token}\", ID: {tokenizer2.pad_token_id}')\n",
    "\n",
    "# truncate and then pad tokens with value 0.\n",
    "padded_token_vectors2 = custom_pad_sequences(token_vectors2, maxlen=MAX_LEN, padding_value=0)\n"
   ]
  },
  {
   "cell_type": "code",
   "execution_count": 41,
   "metadata": {},
   "outputs": [
    {
     "name": "stdout",
     "output_type": "stream",
     "text": [
      "12001\n",
      "12001\n"
     ]
    }
   ],
   "source": [
    "attention_masks2 = create_attention_masks(padded_token_vectors2)\n",
    "\n",
    "y_converted = np.where(np.array(label2) == '?', 1, label2)\n",
    "y_test = y_converted.astype(int)  # just a numpy array of zeros..\n",
    "\n",
    "# convert to tensors.\n",
    "prediction_inputs = torch.tensor(padded_token_vectors2)\n",
    "prediction_labels = torch.tensor(y_test)\n",
    "prediction_masks = torch.tensor(attention_masks2)\n",
    "  \n",
    "batch_size = 16  \n",
    "\n",
    "# create dataLoader.\n",
    "prediction_data = TensorDataset(prediction_inputs, prediction_masks, prediction_labels)\n",
    "prediction_sampler = SequentialSampler(prediction_data)\n",
    "prediction_dataloader = DataLoader(prediction_data, sampler=prediction_sampler, batch_size=batch_size)\n",
    "\n",
    "print(len(label2))\n",
    "print(len(padded_token_vectors2))"
   ]
  },
  {
   "cell_type": "code",
   "execution_count": 42,
   "metadata": {},
   "outputs": [
    {
     "name": "stdout",
     "output_type": "stream",
     "text": [
      "Predicting labels for 12,001 test sentences...\n",
      "Predictions ready!\n"
     ]
    }
   ],
   "source": [
    "# predictions from test set\n",
    "print('Predicting labels for {:,} test sentences...'.format(len(prediction_inputs)))\n",
    "\n",
    "# evaluation mode\n",
    "model.eval()\n",
    "predictions , true_labels = [], []\n",
    "\n",
    "# predict \n",
    "for batch in prediction_dataloader:\n",
    "  # add batch to GPU\n",
    "  batch = tuple(t.to(device) for t in batch)\n",
    "  \n",
    "  # unpack inputs from dataloader\n",
    "  b_input_ids, b_input_mask, b_labels = batch\n",
    "  \n",
    "  with torch.no_grad():\n",
    "      # Forward pass, calculate logit predictions\n",
    "      outputs = model(b_input_ids, token_type_ids=None, \n",
    "                      attention_mask=b_input_mask)\n",
    "\n",
    "  logits = outputs[0]\n",
    "\n",
    "  # move logits and labels to CPU\n",
    "  logits = logits.detach().cpu().numpy()\n",
    "  label_ids = b_labels.to('cpu').numpy()\n",
    "  \n",
    "  predictions.append(logits)\n",
    "  true_labels.append(label_ids)\n",
    "\n",
    "print('Predictions ready!')"
   ]
  },
  {
   "cell_type": "code",
   "execution_count": 47,
   "metadata": {},
   "outputs": [
    {
     "name": "stdout",
     "output_type": "stream",
     "text": [
      "Binary classifications for the first batch:\n",
      " [1 0 0 1 1 1 0 1 1 1 0 0 0 0 1 1]\n"
     ]
    }
   ],
   "source": [
    "# Use sigmoid for classification\n",
    "# later check is there room to adjust the threshold\n",
    "\n",
    "def sigmoid(x):\n",
    "    return 1 / (1 + np.exp(-x))\n",
    "\n",
    "def convert_logits_to_binary_classifications(logits_list, threshold=0.5):\n",
    "    binary_classifications = []\n",
    "    for logits in logits_list:\n",
    "        # class 1 logits are in the second column (index 1)\n",
    "        class_1_logits = logits[:, 1]\n",
    "        probabilities = sigmoid(class_1_logits)\n",
    "        classifications = (probabilities > threshold).astype(int)\n",
    "        binary_classifications.append(classifications)\n",
    "    return binary_classifications\n",
    "\n",
    "binary_classifications = convert_logits_to_binary_classifications(predictions)\n",
    "\n",
    "# binary classifications for the first batch as an example\n",
    "print(\"Binary classifications for the first batch:\\n\", binary_classifications[0])"
   ]
  },
  {
   "cell_type": "code",
   "execution_count": 48,
   "metadata": {},
   "outputs": [
    {
     "name": "stdout",
     "output_type": "stream",
     "text": [
      "Flattened Binary Classifications (NumPy array):\n",
      " [1 0 0 ... 1 1 0]\n"
     ]
    }
   ],
   "source": [
    "flat_pred = np.concatenate(binary_classifications)\n",
    "# flattened binary classifications\n",
    "print(\"Flattened Binary Classifications (NumPy array):\\n\", flat_pred)"
   ]
  },
  {
   "cell_type": "code",
   "execution_count": 49,
   "metadata": {},
   "outputs": [
    {
     "name": "stdout",
     "output_type": "stream",
     "text": [
      "12001\n",
      "6902\n"
     ]
    }
   ],
   "source": [
    "print(len(flat_pred))\n",
    "print(sum(flat_pred))"
   ]
  },
  {
   "cell_type": "code",
   "execution_count": 50,
   "metadata": {},
   "outputs": [],
   "source": [
    "df_predictions = pd.DataFrame({\n",
    "    'id': range(len(flat_pred)),\n",
    "    'label': flat_pred\n",
    "})\n",
    "# save to a CSV file\n",
    "csv_file_path = './submissions/submission2_2024.csv'\n",
    "df_predictions.to_csv(csv_file_path, index=False)"
   ]
  },
  {
   "cell_type": "code",
   "execution_count": null,
   "metadata": {},
   "outputs": [],
   "source": []
  }
 ],
 "metadata": {
  "kernelspec": {
   "display_name": "virky",
   "language": "python",
   "name": "virky"
  },
  "language_info": {
   "codemirror_mode": {
    "name": "ipython",
    "version": 3
   },
   "file_extension": ".py",
   "mimetype": "text/x-python",
   "name": "python",
   "nbconvert_exporter": "python",
   "pygments_lexer": "ipython3",
   "version": "3.8.16"
  }
 },
 "nbformat": 4,
 "nbformat_minor": 2
}

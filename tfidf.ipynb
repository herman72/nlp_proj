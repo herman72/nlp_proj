{
 "cells": [
  {
   "cell_type": "code",
   "execution_count": 5,
   "metadata": {},
   "outputs": [],
   "source": [
    "from sklearn.datasets import load_iris\n",
    "from sklearn.model_selection import train_test_split\n",
    "from sklearn.linear_model import LogisticRegression\n",
    "from sklearn.neighbors import KNeighborsClassifier\n",
    "from sklearn.tree import DecisionTreeClassifier\n",
    "from sklearn.svm import SVC\n",
    "from sklearn.ensemble import RandomForestClassifier\n",
    "from sklearn.metrics import classification_report\n",
    "from sklearn.feature_extraction.text import TfidfVectorizer\n",
    "from sklearn.model_selection import train_test_split\n",
    "from sklearn.linear_model import LogisticRegression\n",
    "from sklearn.metrics import classification_report\n",
    "import pandas as pd\n",
    "import numpy as np"
   ]
  },
  {
   "cell_type": "code",
   "execution_count": 6,
   "metadata": {},
   "outputs": [
    {
     "name": "stdout",
     "output_type": "stream",
     "text": [
      "Logistic Regression Classification Report:\n",
      "              precision    recall  f1-score   support\n",
      "\n",
      "           0       0.94      0.94      0.94      7019\n",
      "           1       0.89      0.89      0.89      3981\n",
      "\n",
      "    accuracy                           0.92     11000\n",
      "   macro avg       0.91      0.91      0.91     11000\n",
      "weighted avg       0.92      0.92      0.92     11000\n",
      "\n"
     ]
    }
   ],
   "source": [
    "\n",
    "df_train = pd.read_csv(\"./train/train_2024.csv\", quoting=3, index_col=0)\n",
    "df_val = pd.read_csv(\"./dev/dev_2024.csv\", quoting=3, index_col=0) \n",
    "\n",
    "y_train = df_train['label'].values\n",
    "X_train = df_train['text'].values\n",
    "\n",
    "y_val = df_val['label'].values\n",
    "X_val = df_val['text'].values\n",
    "\n",
    "from sklearn.utils.class_weight import compute_class_weight\n",
    "\n",
    "class_weights = compute_class_weight(class_weight='balanced', classes=np.unique(y_train), y=y_train)\n",
    "\n",
    "# Convert class weights to a dictionary\n",
    "weight_dict = {i: class_weights[i] for i in range(len(class_weights))}\n",
    "\n",
    "#val_labels = df_val['label'].values\n",
    "#val_text = df_val['text'].values\n",
    "\n",
    "# Compute TF-IDF\n",
    "vectorizer = TfidfVectorizer()\n",
    "vectorizer.fit(X_train)\n",
    "X_train_tfidf = vectorizer.transform(X_train)\n",
    "X_val_tfidf = vectorizer.transform(X_val)\n",
    "\n",
    "# Initialize classifiers\n",
    "logreg = LogisticRegression(class_weight=weight_dict, max_iter=200000 )\n",
    "knn = KNeighborsClassifier(n_neighbors=2)  # Does not support class_weight\n",
    "decision_tree = DecisionTreeClassifier()  # Supports via min_weight_fraction_leaf but not directly class_weight\n",
    "svm = SVC(class_weight=weight_dict)\n",
    "random_forest = RandomForestClassifier(n_estimators=100, class_weight=weight_dict)\n",
    "\n",
    "models = [logreg, knn, decision_tree, svm, random_forest]\n",
    "model_names = ['Logistic Regression', 'K-Nearest Neighbors', 'Decision Tree', 'SVM', 'Random Forest']\n",
    "\n",
    "# Train and evaluate each classifier\n",
    "for model, name in zip(models, model_names):\n",
    "    model.fit(X_train_tfidf, y_train)  # Train model\n",
    "    y_pred = model.predict(X_val_tfidf)  # Predict on test set\n",
    "    print(f\"{name} Classification Report:\")\n",
    "    print(classification_report(y_val, y_pred))\n",
    "\n",
    "df_train = pd.read_csv(\"./train/train_2024.csv\", quoting=3, index_col=0)\n",
    "df_val = pd.read_csv(\"./dev/dev_2024.csv\", quoting=3, index_col=0) \n",
    "\n",
    "y_train = df_train['label'].values\n",
    "X_train = df_train['text'].values\n",
    "\n",
    "y_val = df_val['label'].values\n",
    "X_val = df_val['text'].values\n",
    "\n"
   ]
  },
  {
   "cell_type": "code",
   "execution_count": null,
   "metadata": {},
   "outputs": [],
   "source": []
  }
 ],
 "metadata": {
  "kernelspec": {
   "display_name": "virky",
   "language": "python",
   "name": "python3"
  },
  "language_info": {
   "codemirror_mode": {
    "name": "ipython",
    "version": 3
   },
   "file_extension": ".py",
   "mimetype": "text/x-python",
   "name": "python",
   "nbconvert_exporter": "python",
   "pygments_lexer": "ipython3",
   "version": "3.8.16"
  }
 },
 "nbformat": 4,
 "nbformat_minor": 2
}
